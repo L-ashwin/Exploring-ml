{
 "cells": [
  {
   "cell_type": "code",
   "execution_count": 1,
   "metadata": {},
   "outputs": [],
   "source": [
    "import numpy as np\n",
    "import pandas as pd\n",
    "from sklearn. model_selection import cross_val_score\n",
    "from sklearn.impute import KNNImputer"
   ]
  },
  {
   "cell_type": "code",
   "execution_count": 2,
   "metadata": {},
   "outputs": [],
   "source": [
    "# Reading the dataset\n",
    "Train = pd.read_csv('./dataset/train.csv', index_col=0)\n",
    "Test  = pd.read_csv('./dataset/test.csv',  index_col=0)"
   ]
  },
  {
   "cell_type": "code",
   "execution_count": 3,
   "metadata": {},
   "outputs": [],
   "source": [
    "# Features 'Name' and 'Ticket' have specific values for each example(passenger)\n",
    "# We will need to do some feature engineering to utlise them. Also 'Cabin' has\n",
    "# lot of missing values and will need special attension as well.\n",
    "# So, Dropping these features for the initial models\n",
    "features = ['Name', 'Ticket', 'Cabin']\n",
    "Train = Train.drop(features, axis=1)\n",
    "Test  = Test.drop(features, axis=1)\n",
    "Test_id = Test.index"
   ]
  },
  {
   "cell_type": "code",
   "execution_count": 4,
   "metadata": {},
   "outputs": [],
   "source": [
    "#Encoding categorical features values to integers\n",
    "catg_map = {}\n",
    "for catg in ['Sex', 'Embarked']:\n",
    "    unq = Train[catg].unique()\n",
    "    catg_map[catg] = {key:val for val, key in enumerate(unq)}\n",
    "\n",
    "    Train[catg] = Train[catg].map(catg_map[catg])\n",
    "    Test[catg]  = Test[catg].map(catg_map[catg])"
   ]
  },
  {
   "cell_type": "code",
   "execution_count": 5,
   "metadata": {},
   "outputs": [],
   "source": [
    "# creating a copy of test and train\n",
    "train = Train.copy()\n",
    "test  = Test.copy()"
   ]
  },
  {
   "cell_type": "code",
   "execution_count": 6,
   "metadata": {},
   "outputs": [],
   "source": [
    "# splitting into features (xTrain) and labels (yTrain)\n",
    "xTrain = train.drop('Survived', axis=1)\n",
    "yTrain = train['Survived']\n",
    "xTest  = test"
   ]
  },
  {
   "cell_type": "code",
   "execution_count": 7,
   "metadata": {},
   "outputs": [],
   "source": [
    "impute = KNNImputer()\n",
    "impute.fit(xTrain)\n",
    "\n",
    "xTrain = impute.transform(xTrain)\n",
    "xTest  = impute.transform(xTest)"
   ]
  },
  {
   "cell_type": "markdown",
   "metadata": {},
   "source": [
    "## Base Model"
   ]
  },
  {
   "cell_type": "code",
   "execution_count": 8,
   "metadata": {},
   "outputs": [
    {
     "name": "stdout",
     "output_type": "stream",
     "text": [
      "Cross Validation Accuracy for the Base Model: 0.8025\n"
     ]
    }
   ],
   "source": [
    "# instantiating LogisticRegression\n",
    "from sklearn.linear_model import LogisticRegression\n",
    "estimator = LogisticRegression(tol=1e-4, solver='liblinear', random_state=1)\n",
    "\n",
    "# Computing the cross validation accuracy as base model performance estimate.\n",
    "cv = cross_val_score(estimator, xTrain, yTrain, cv=10)\n",
    "print('Cross Validation Accuracy for the Base Model:', round(np.mean(cv), 4))"
   ]
  },
  {
   "cell_type": "markdown",
   "metadata": {},
   "source": [
    "# Different Classifiers and Parameter Tuning "
   ]
  },
  {
   "cell_type": "code",
   "execution_count": 9,
   "metadata": {},
   "outputs": [],
   "source": [
    "def parameterTune(estimator, param_grid):\n",
    "    from sklearn.model_selection import GridSearchCV\n",
    "    grid = GridSearchCV(\n",
    "            estimator  = estimator,\n",
    "            param_grid = param_grid,\n",
    "            n_jobs     = 11,\n",
    "            cv         = 5,\n",
    "\n",
    "    )\n",
    "    grid.fit(xTrain, yTrain)\n",
    "    \n",
    "    return grid.best_score_, grid.best_params_"
   ]
  },
  {
   "cell_type": "code",
   "execution_count": 10,
   "metadata": {},
   "outputs": [],
   "source": [
    "# function to generate submission file\n",
    "def test_eval(estimator, params):\n",
    "    clf = estimator(**params)\n",
    "    clf.fit(xTrain, yTrain)\n",
    "    yPred = clf.predict(xTest)\n",
    "    \n",
    "    df = pd.DataFrame({'PassengerId':Test_id, 'Survived':yPred})\n",
    "    return df"
   ]
  },
  {
   "cell_type": "markdown",
   "metadata": {},
   "source": [
    "## Gaussian Naive Bayes"
   ]
  },
  {
   "cell_type": "code",
   "execution_count": 11,
   "metadata": {},
   "outputs": [
    {
     "name": "stdout",
     "output_type": "stream",
     "text": [
      "Cross Validation Accuracy for the Base Model: 0.789\n"
     ]
    }
   ],
   "source": [
    "# instantiating GaussianNB\n",
    "from sklearn.naive_bayes import GaussianNB\n",
    "estimator = GaussianNB()\n",
    "\n",
    "# Computing the cross validation accuracy as base model performance estimate.\n",
    "cv = cross_val_score(estimator, xTrain, yTrain, cv=10)\n",
    "print('Cross Validation Accuracy for the Base Model:', round(np.mean(cv), 4))"
   ]
  },
  {
   "cell_type": "markdown",
   "metadata": {},
   "source": [
    "## KNN"
   ]
  },
  {
   "cell_type": "code",
   "execution_count": 12,
   "metadata": {},
   "outputs": [],
   "source": [
    "# instantiating KNeighborsClassifier\n",
    "from sklearn.neighbors import KNeighborsClassifier\n",
    "\n",
    "estimator = KNeighborsClassifier()\n",
    "param_grid = {\n",
    "    'n_neighbors' : [3, 5, 7, 10],\n",
    "}"
   ]
  },
  {
   "cell_type": "code",
   "execution_count": 13,
   "metadata": {},
   "outputs": [
    {
     "name": "stdout",
     "output_type": "stream",
     "text": [
      "best_score_: 0.7093716653066349 \n",
      "best_params_: {'n_neighbors': 3}\n"
     ]
    }
   ],
   "source": [
    "best_score_, best_params_ = parameterTune(estimator, param_grid)\n",
    "print('best_score_:',best_score_,'\\nbest_params_:',best_params_)"
   ]
  },
  {
   "cell_type": "markdown",
   "metadata": {},
   "source": [
    "## Support Vector Classifier"
   ]
  },
  {
   "cell_type": "code",
   "execution_count": 14,
   "metadata": {},
   "outputs": [],
   "source": [
    "# instantiating Support Vector Classifier\n",
    "from sklearn.svm import SVC\n",
    "estimator = SVC()\n",
    "\n",
    "param_grid = {\n",
    "    'C'      : [1, 10, 100, 1000],\n",
    "    'kernel' : ['linear', 'rbf'],\n",
    "    'gamma'  : ['scale', 0.1, 0.01, 1e-3, 1e-4],\n",
    "}"
   ]
  },
  {
   "cell_type": "code",
   "execution_count": 15,
   "metadata": {},
   "outputs": [
    {
     "name": "stdout",
     "output_type": "stream",
     "text": [
      "best_score_: 0.8069675475488042 \n",
      "best_params_: {'C': 1000, 'gamma': 'scale', 'kernel': 'rbf'}\n"
     ]
    }
   ],
   "source": [
    "best_score_, best_params_ = parameterTune(estimator, param_grid)\n",
    "svc_df = test_eval(SVC, best_params_)\n",
    "\n",
    "print('best_score_:',best_score_,'\\nbest_params_:',best_params_)"
   ]
  },
  {
   "cell_type": "markdown",
   "metadata": {},
   "source": [
    "## Random Forest Classifier"
   ]
  },
  {
   "cell_type": "code",
   "execution_count": 16,
   "metadata": {},
   "outputs": [],
   "source": [
    "# instantiating RandomForestClassifier\n",
    "from sklearn.ensemble import RandomForestClassifier\n",
    "estimator = RandomForestClassifier()\n",
    "\n",
    "param_grid = {\n",
    "    'n_estimators' : [50, 100, 250, 500, 750],\n",
    "    'criterion'    : [\"gini\", \"entropy\"],\n",
    "    'max_features' : [2,3,4,5,6],\n",
    "}"
   ]
  },
  {
   "cell_type": "code",
   "execution_count": 17,
   "metadata": {},
   "outputs": [
    {
     "name": "stdout",
     "output_type": "stream",
     "text": [
      "best_score_: 0.8283284162952734 \n",
      "best_params_: {'criterion': 'gini', 'max_features': 5, 'n_estimators': 100}\n"
     ]
    }
   ],
   "source": [
    "best_score_, best_params_ = parameterTune(estimator, param_grid)\n",
    "rfc_df = test_eval(RandomForestClassifier, best_params_)\n",
    "\n",
    "print('best_score_:',best_score_,'\\nbest_params_:',best_params_)"
   ]
  },
  {
   "cell_type": "markdown",
   "metadata": {},
   "source": [
    "# Submission File"
   ]
  },
  {
   "cell_type": "code",
   "execution_count": 18,
   "metadata": {},
   "outputs": [],
   "source": [
    "svc_df.to_csv('./results/01_svc.csv', index=None)\n",
    "rfc_df.to_csv('./results/02_rfc.csv', index=None)"
   ]
  }
 ],
 "metadata": {
  "kernelspec": {
   "display_name": "Python 3",
   "language": "python",
   "name": "python3"
  },
  "language_info": {
   "codemirror_mode": {
    "name": "ipython",
    "version": 3
   },
   "file_extension": ".py",
   "mimetype": "text/x-python",
   "name": "python",
   "nbconvert_exporter": "python",
   "pygments_lexer": "ipython3",
   "version": "3.7.4"
  }
 },
 "nbformat": 4,
 "nbformat_minor": 2
}
