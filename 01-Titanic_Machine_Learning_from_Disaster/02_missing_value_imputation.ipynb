{
 "cells": [
  {
   "cell_type": "code",
   "execution_count": 1,
   "metadata": {},
   "outputs": [],
   "source": [
    "import numpy as np\n",
    "import pandas as pd\n",
    "from sklearn.linear_model import LogisticRegression\n",
    "from sklearn. model_selection import cross_val_score\n",
    "from sklearn.impute import KNNImputer"
   ]
  },
  {
   "cell_type": "code",
   "execution_count": 2,
   "metadata": {},
   "outputs": [],
   "source": [
    "# Reading the dataset\n",
    "Train = pd.read_csv('./dataset/train.csv', index_col=0)\n",
    "Test  = pd.read_csv('./dataset/test.csv',  index_col=0)"
   ]
  },
  {
   "cell_type": "code",
   "execution_count": 3,
   "metadata": {},
   "outputs": [],
   "source": [
    "# Features 'Name' and 'Ticket' have specific values for each example(passenger)\n",
    "# We will need to do some feature engineering to utlise them. Also 'Cabin' has\n",
    "# lot of missing values and will need special attension as well.\n",
    "# So, Dropping these features for the initial models\n",
    "features = ['Name', 'Ticket', 'Cabin']\n",
    "Train = Train.drop(features, axis=1)\n",
    "Test  = Test.drop(features, axis=1)"
   ]
  },
  {
   "cell_type": "code",
   "execution_count": 4,
   "metadata": {},
   "outputs": [],
   "source": [
    "#Encoding categorical features values to integers\n",
    "catg_map = {}\n",
    "for catg in ['Sex', 'Embarked']:\n",
    "    unq = Train[catg].unique()\n",
    "    catg_map[catg] = {key:val for val, key in enumerate(unq)}\n",
    "\n",
    "    Train[catg] = Train[catg].map(catg_map[catg])\n",
    "    Test[catg]  = Test[catg].map(catg_map[catg])"
   ]
  },
  {
   "cell_type": "markdown",
   "metadata": {},
   "source": [
    "# Base Model"
   ]
  },
  {
   "cell_type": "code",
   "execution_count": 5,
   "metadata": {},
   "outputs": [],
   "source": [
    "# dropping the examples with missing values for any of the features\n",
    "train = Train.dropna()\n",
    "test  = Test.copy()"
   ]
  },
  {
   "cell_type": "code",
   "execution_count": 6,
   "metadata": {},
   "outputs": [],
   "source": [
    "# splitting into features (xTrain) and labels (yTrain)\n",
    "xTrain = train.drop('Survived', axis=1)\n",
    "yTrain = train['Survived']\n",
    "xTest  = test"
   ]
  },
  {
   "cell_type": "code",
   "execution_count": 7,
   "metadata": {},
   "outputs": [
    {
     "name": "stdout",
     "output_type": "stream",
     "text": [
      "Cross Validation Accuracy for the Base Model: 0.7871\n"
     ]
    }
   ],
   "source": [
    "# instantiating RandomForestClassifier\n",
    "estimator = LogisticRegression(tol=1e-4, solver='liblinear', random_state=1)\n",
    "\n",
    "# Computing the cross validation accuracy as base model performance estimate.\n",
    "cv = cross_val_score(estimator, xTrain, yTrain, cv=10)\n",
    "print('Cross Validation Accuracy for the Base Model:', round(np.mean(cv), 4))"
   ]
  },
  {
   "cell_type": "markdown",
   "metadata": {},
   "source": [
    "# Filling missing values using mean, median & mode"
   ]
  },
  {
   "cell_type": "code",
   "execution_count": 8,
   "metadata": {},
   "outputs": [],
   "source": [
    "# creating a copy of test and train\n",
    "train = Train.copy()\n",
    "test  = Test.copy()"
   ]
  },
  {
   "cell_type": "code",
   "execution_count": 9,
   "metadata": {},
   "outputs": [
    {
     "name": "stdout",
     "output_type": "stream",
     "text": [
      "Missing values in Train data:\n",
      "Survived      0\n",
      "Pclass        0\n",
      "Sex           0\n",
      "Age         177\n",
      "SibSp         0\n",
      "Parch         0\n",
      "Fare          0\n",
      "Embarked      0\n",
      "dtype: int64\n",
      "\n",
      "Missing values in Train data:\n",
      "Pclass       0\n",
      "Sex          0\n",
      "Age         86\n",
      "SibSp        0\n",
      "Parch        0\n",
      "Fare         1\n",
      "Embarked     0\n",
      "dtype: int64\n"
     ]
    }
   ],
   "source": [
    "print('Missing values in Train data:')\n",
    "print(train.isna().sum())\n",
    "print('\\nMissing values in Train data:')\n",
    "print(test.isna().sum())"
   ]
  },
  {
   "cell_type": "code",
   "execution_count": 10,
   "metadata": {},
   "outputs": [],
   "source": [
    "# splitting into features (xTrain) and labels (yTrain)\n",
    "xTrain = train.drop('Survived', axis=1)\n",
    "yTrain = train['Survived']\n",
    "xTest  = test"
   ]
  },
  {
   "cell_type": "code",
   "execution_count": 11,
   "metadata": {},
   "outputs": [],
   "source": [
    "for attr in ['Age']: #fillna for real valued features with mean\n",
    "    fill = xTrain[attr].mean()\n",
    "    xTrain[attr].fillna(fill, inplace=True)\n",
    "    xTest[attr].fillna(fill, inplace=True)"
   ]
  },
  {
   "cell_type": "code",
   "execution_count": 12,
   "metadata": {},
   "outputs": [],
   "source": [
    "# as Fare has skewed distribution using median as central tendancy\n",
    "for attr in ['Fare']: #fillna for real valued features with median\n",
    "    fill = xTrain[attr].median()\n",
    "    xTrain[attr].fillna(fill, inplace=True)\n",
    "    xTest[attr].fillna(fill, inplace=True)"
   ]
  },
  {
   "cell_type": "code",
   "execution_count": 13,
   "metadata": {},
   "outputs": [],
   "source": [
    "for attr in ['Embarked']: #fillna for categorical features with mode\n",
    "    fill = xTrain[attr].mode()[0]\n",
    "    xTrain[attr].fillna(fill, inplace=True)\n",
    "    xTest[attr].fillna(fill, inplace=True)   "
   ]
  },
  {
   "cell_type": "code",
   "execution_count": 14,
   "metadata": {},
   "outputs": [
    {
     "name": "stdout",
     "output_type": "stream",
     "text": [
      "Cross Validation Accuracy: 0.7958\n"
     ]
    }
   ],
   "source": [
    "# instantiating RandomForestClassifier\n",
    "estimator = LogisticRegression(tol=1e-4, solver='liblinear', random_state=1)\n",
    "\n",
    "# Computing the cross validation accuracy as base model performance estimate.\n",
    "cv = cross_val_score(estimator, xTrain, yTrain, cv=10)\n",
    "print('Cross Validation Accuracy:', round(np.mean(cv), 4))"
   ]
  },
  {
   "cell_type": "markdown",
   "metadata": {},
   "source": [
    "## KNN Imputer"
   ]
  },
  {
   "cell_type": "code",
   "execution_count": 15,
   "metadata": {},
   "outputs": [],
   "source": [
    "# creating a copy of test and train\n",
    "train = Train.copy()\n",
    "test  = Test.copy()"
   ]
  },
  {
   "cell_type": "code",
   "execution_count": 16,
   "metadata": {},
   "outputs": [],
   "source": [
    "# splitting into features (xTrain) and labels (yTrain)\n",
    "xTrain = train.drop('Survived', axis=1)\n",
    "yTrain = train['Survived']\n",
    "xTest  = test"
   ]
  },
  {
   "cell_type": "code",
   "execution_count": 17,
   "metadata": {},
   "outputs": [],
   "source": [
    "impute = KNNImputer()\n",
    "impute.fit(xTrain)\n",
    "\n",
    "xTrain = impute.transform(xTrain)\n",
    "xTest  = impute.transform(xTest)"
   ]
  },
  {
   "cell_type": "code",
   "execution_count": 18,
   "metadata": {},
   "outputs": [
    {
     "name": "stdout",
     "output_type": "stream",
     "text": [
      "Cross Validation Accuracy: 0.8025\n"
     ]
    }
   ],
   "source": [
    "# instantiating RandomForestClassifier\n",
    "estimator = LogisticRegression(tol=1e-4, solver='liblinear', random_state=1)\n",
    "\n",
    "# Computing the cross validation accuracy as base model performance estimate.\n",
    "cv = cross_val_score(estimator, xTrain, yTrain, cv=10)\n",
    "print('Cross Validation Accuracy:', round(np.mean(cv), 4))"
   ]
  },
  {
   "cell_type": "code",
   "execution_count": null,
   "metadata": {},
   "outputs": [],
   "source": []
  }
 ],
 "metadata": {
  "kernelspec": {
   "display_name": "Python 3",
   "language": "python",
   "name": "python3"
  },
  "language_info": {
   "codemirror_mode": {
    "name": "ipython",
    "version": 3
   },
   "file_extension": ".py",
   "mimetype": "text/x-python",
   "name": "python",
   "nbconvert_exporter": "python",
   "pygments_lexer": "ipython3",
   "version": "3.7.4"
  }
 },
 "nbformat": 4,
 "nbformat_minor": 2
}
