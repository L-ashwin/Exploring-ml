{
 "cells": [
  {
   "cell_type": "code",
   "execution_count": 1,
   "metadata": {},
   "outputs": [],
   "source": [
    "import re\n",
    "import json\n",
    "import numpy as np\n",
    "import pandas as pd\n",
    "\n",
    "from sklearn. model_selection import cross_val_score\n",
    "from sklearn.impute import KNNImputer , SimpleImputer"
   ]
  },
  {
   "cell_type": "code",
   "execution_count": 2,
   "metadata": {},
   "outputs": [],
   "source": [
    "# Reading the dataset\n",
    "Train = pd.read_csv('./dataset/train.csv', index_col=0)\n",
    "Test  = pd.read_csv('./dataset/test.csv',  index_col=0)"
   ]
  },
  {
   "cell_type": "code",
   "execution_count": 3,
   "metadata": {},
   "outputs": [
    {
     "data": {
      "text/html": [
       "<div>\n",
       "<style scoped>\n",
       "    .dataframe tbody tr th:only-of-type {\n",
       "        vertical-align: middle;\n",
       "    }\n",
       "\n",
       "    .dataframe tbody tr th {\n",
       "        vertical-align: top;\n",
       "    }\n",
       "\n",
       "    .dataframe thead th {\n",
       "        text-align: right;\n",
       "    }\n",
       "</style>\n",
       "<table border=\"1\" class=\"dataframe\">\n",
       "  <thead>\n",
       "    <tr style=\"text-align: right;\">\n",
       "      <th></th>\n",
       "      <th>Survived</th>\n",
       "      <th>Pclass</th>\n",
       "      <th>Name</th>\n",
       "      <th>Sex</th>\n",
       "      <th>Age</th>\n",
       "      <th>SibSp</th>\n",
       "      <th>Parch</th>\n",
       "      <th>Ticket</th>\n",
       "      <th>Fare</th>\n",
       "      <th>Cabin</th>\n",
       "      <th>Embarked</th>\n",
       "    </tr>\n",
       "    <tr>\n",
       "      <th>PassengerId</th>\n",
       "      <th></th>\n",
       "      <th></th>\n",
       "      <th></th>\n",
       "      <th></th>\n",
       "      <th></th>\n",
       "      <th></th>\n",
       "      <th></th>\n",
       "      <th></th>\n",
       "      <th></th>\n",
       "      <th></th>\n",
       "      <th></th>\n",
       "    </tr>\n",
       "  </thead>\n",
       "  <tbody>\n",
       "    <tr>\n",
       "      <td>1</td>\n",
       "      <td>0</td>\n",
       "      <td>3</td>\n",
       "      <td>Braund, Mr. Owen Harris</td>\n",
       "      <td>male</td>\n",
       "      <td>22.0</td>\n",
       "      <td>1</td>\n",
       "      <td>0</td>\n",
       "      <td>A/5 21171</td>\n",
       "      <td>7.2500</td>\n",
       "      <td>NaN</td>\n",
       "      <td>S</td>\n",
       "    </tr>\n",
       "    <tr>\n",
       "      <td>2</td>\n",
       "      <td>1</td>\n",
       "      <td>1</td>\n",
       "      <td>Cumings, Mrs. John Bradley (Florence Briggs Th...</td>\n",
       "      <td>female</td>\n",
       "      <td>38.0</td>\n",
       "      <td>1</td>\n",
       "      <td>0</td>\n",
       "      <td>PC 17599</td>\n",
       "      <td>71.2833</td>\n",
       "      <td>C85</td>\n",
       "      <td>C</td>\n",
       "    </tr>\n",
       "    <tr>\n",
       "      <td>3</td>\n",
       "      <td>1</td>\n",
       "      <td>3</td>\n",
       "      <td>Heikkinen, Miss. Laina</td>\n",
       "      <td>female</td>\n",
       "      <td>26.0</td>\n",
       "      <td>0</td>\n",
       "      <td>0</td>\n",
       "      <td>STON/O2. 3101282</td>\n",
       "      <td>7.9250</td>\n",
       "      <td>NaN</td>\n",
       "      <td>S</td>\n",
       "    </tr>\n",
       "    <tr>\n",
       "      <td>4</td>\n",
       "      <td>1</td>\n",
       "      <td>1</td>\n",
       "      <td>Futrelle, Mrs. Jacques Heath (Lily May Peel)</td>\n",
       "      <td>female</td>\n",
       "      <td>35.0</td>\n",
       "      <td>1</td>\n",
       "      <td>0</td>\n",
       "      <td>113803</td>\n",
       "      <td>53.1000</td>\n",
       "      <td>C123</td>\n",
       "      <td>S</td>\n",
       "    </tr>\n",
       "    <tr>\n",
       "      <td>5</td>\n",
       "      <td>0</td>\n",
       "      <td>3</td>\n",
       "      <td>Allen, Mr. William Henry</td>\n",
       "      <td>male</td>\n",
       "      <td>35.0</td>\n",
       "      <td>0</td>\n",
       "      <td>0</td>\n",
       "      <td>373450</td>\n",
       "      <td>8.0500</td>\n",
       "      <td>NaN</td>\n",
       "      <td>S</td>\n",
       "    </tr>\n",
       "  </tbody>\n",
       "</table>\n",
       "</div>"
      ],
      "text/plain": [
       "             Survived  Pclass  \\\n",
       "PassengerId                     \n",
       "1                   0       3   \n",
       "2                   1       1   \n",
       "3                   1       3   \n",
       "4                   1       1   \n",
       "5                   0       3   \n",
       "\n",
       "                                                          Name     Sex   Age  \\\n",
       "PassengerId                                                                    \n",
       "1                                      Braund, Mr. Owen Harris    male  22.0   \n",
       "2            Cumings, Mrs. John Bradley (Florence Briggs Th...  female  38.0   \n",
       "3                                       Heikkinen, Miss. Laina  female  26.0   \n",
       "4                 Futrelle, Mrs. Jacques Heath (Lily May Peel)  female  35.0   \n",
       "5                                     Allen, Mr. William Henry    male  35.0   \n",
       "\n",
       "             SibSp  Parch            Ticket     Fare Cabin Embarked  \n",
       "PassengerId                                                          \n",
       "1                1      0         A/5 21171   7.2500   NaN        S  \n",
       "2                1      0          PC 17599  71.2833   C85        C  \n",
       "3                0      0  STON/O2. 3101282   7.9250   NaN        S  \n",
       "4                1      0            113803  53.1000  C123        S  \n",
       "5                0      0            373450   8.0500   NaN        S  "
      ]
     },
     "execution_count": 3,
     "metadata": {},
     "output_type": "execute_result"
    }
   ],
   "source": [
    "Train.head()"
   ]
  },
  {
   "cell_type": "markdown",
   "metadata": {},
   "source": [
    "# Pre-Processing"
   ]
  },
  {
   "cell_type": "code",
   "execution_count": 4,
   "metadata": {},
   "outputs": [],
   "source": [
    "features = ['Ticket', 'Cabin']\n",
    "Train = Train.drop(features, axis=1)\n",
    "Test  = Test.drop(features, axis=1)\n",
    "Test_id = Test.index"
   ]
  },
  {
   "cell_type": "code",
   "execution_count": 5,
   "metadata": {},
   "outputs": [],
   "source": [
    "Train['Name'] = Train.Name.map(lambda x:re.findall('([A-Za-z]+\\.)' ,x)[0])\n",
    "Test['Name']  = Test.Name.map(lambda x:re.findall('([A-Za-z]+\\.)' ,x)[0])"
   ]
  },
  {
   "cell_type": "code",
   "execution_count": 6,
   "metadata": {},
   "outputs": [],
   "source": [
    "def group_titles(titles):\n",
    "    for i, each in enumerate(titles):\n",
    "        if  any(each == ele for ele in ['Mr.', 'Miss.', 'Mrs.', 'Master.']):\n",
    "            continue\n",
    "        elif  any(each == ele for ele in ['Sir.', 'Ms.', 'Mme.', 'Mlle.', 'Lady.', 'Countess.']):\n",
    "            titles[i] = 'grp1'\n",
    "        else:\n",
    "            titles[i] = 'grp2'"
   ]
  },
  {
   "cell_type": "code",
   "execution_count": 7,
   "metadata": {},
   "outputs": [],
   "source": [
    "group_titles(Train.Name.values)\n",
    "group_titles(Test.Name.values)"
   ]
  },
  {
   "cell_type": "code",
   "execution_count": 8,
   "metadata": {},
   "outputs": [],
   "source": [
    "for attr in ['Age']: #fillna for real valued features with mean\n",
    "    fill = Train[attr].mean()\n",
    "    Train[attr].fillna(fill, inplace=True)\n",
    "    Test[attr].fillna(fill, inplace=True)\n",
    "    \n",
    "# as Fare has skewed distribution using median as central tendancy\n",
    "for attr in ['Fare']: #fillna for real valued features with median\n",
    "    fill = Train[attr].median()\n",
    "    Train[attr].fillna(fill, inplace=True)\n",
    "    Test[attr].fillna(fill, inplace=True)\n",
    "    \n",
    "for attr in ['Embarked']: #fillna for categorical features with mode\n",
    "    fill = Train[attr].mode()[0]\n",
    "    Train[attr].fillna(fill, inplace=True)\n",
    "    Test[attr].fillna(fill, inplace=True)   "
   ]
  },
  {
   "cell_type": "code",
   "execution_count": 9,
   "metadata": {},
   "outputs": [],
   "source": [
    "train = pd.get_dummies(Train)\n",
    "test  = pd.get_dummies(Test)"
   ]
  },
  {
   "cell_type": "code",
   "execution_count": 10,
   "metadata": {},
   "outputs": [],
   "source": [
    "# splitting into features (xTrain) and labels (yTrain)\n",
    "xTrain = train.drop('Survived', axis=1)\n",
    "yTrain = train['Survived']\n",
    "xTest  = test"
   ]
  },
  {
   "cell_type": "code",
   "execution_count": 11,
   "metadata": {},
   "outputs": [
    {
     "data": {
      "text/plain": [
       "StandardScaler()"
      ]
     },
     "execution_count": 11,
     "metadata": {},
     "output_type": "execute_result"
    }
   ],
   "source": [
    "from sklearn.preprocessing import StandardScaler\n",
    "scaller = StandardScaler()\n",
    "scaller.fit(xTrain[['Age', 'Fare']])"
   ]
  },
  {
   "cell_type": "code",
   "execution_count": 12,
   "metadata": {},
   "outputs": [],
   "source": [
    "xTrain[['Age', 'Fare']] = scaller.transform(xTrain[['Age', 'Fare']])\n",
    "xTest[['Age', 'Fare']]  = scaller.transform(xTest[['Age', 'Fare']])"
   ]
  },
  {
   "cell_type": "code",
   "execution_count": 13,
   "metadata": {},
   "outputs": [
    {
     "data": {
      "text/html": [
       "<div>\n",
       "<style scoped>\n",
       "    .dataframe tbody tr th:only-of-type {\n",
       "        vertical-align: middle;\n",
       "    }\n",
       "\n",
       "    .dataframe tbody tr th {\n",
       "        vertical-align: top;\n",
       "    }\n",
       "\n",
       "    .dataframe thead th {\n",
       "        text-align: right;\n",
       "    }\n",
       "</style>\n",
       "<table border=\"1\" class=\"dataframe\">\n",
       "  <thead>\n",
       "    <tr style=\"text-align: right;\">\n",
       "      <th></th>\n",
       "      <th>Pclass</th>\n",
       "      <th>Age</th>\n",
       "      <th>SibSp</th>\n",
       "      <th>Parch</th>\n",
       "      <th>Fare</th>\n",
       "      <th>Name_Master.</th>\n",
       "      <th>Name_Miss.</th>\n",
       "      <th>Name_Mr.</th>\n",
       "      <th>Name_Mrs.</th>\n",
       "      <th>Name_grp1</th>\n",
       "      <th>Name_grp2</th>\n",
       "      <th>Sex_female</th>\n",
       "      <th>Sex_male</th>\n",
       "      <th>Embarked_C</th>\n",
       "      <th>Embarked_Q</th>\n",
       "      <th>Embarked_S</th>\n",
       "    </tr>\n",
       "    <tr>\n",
       "      <th>PassengerId</th>\n",
       "      <th></th>\n",
       "      <th></th>\n",
       "      <th></th>\n",
       "      <th></th>\n",
       "      <th></th>\n",
       "      <th></th>\n",
       "      <th></th>\n",
       "      <th></th>\n",
       "      <th></th>\n",
       "      <th></th>\n",
       "      <th></th>\n",
       "      <th></th>\n",
       "      <th></th>\n",
       "      <th></th>\n",
       "      <th></th>\n",
       "      <th></th>\n",
       "    </tr>\n",
       "  </thead>\n",
       "  <tbody>\n",
       "    <tr>\n",
       "      <td>1</td>\n",
       "      <td>3</td>\n",
       "      <td>-0.592481</td>\n",
       "      <td>1</td>\n",
       "      <td>0</td>\n",
       "      <td>-0.502445</td>\n",
       "      <td>0</td>\n",
       "      <td>0</td>\n",
       "      <td>1</td>\n",
       "      <td>0</td>\n",
       "      <td>0</td>\n",
       "      <td>0</td>\n",
       "      <td>0</td>\n",
       "      <td>1</td>\n",
       "      <td>0</td>\n",
       "      <td>0</td>\n",
       "      <td>1</td>\n",
       "    </tr>\n",
       "    <tr>\n",
       "      <td>2</td>\n",
       "      <td>1</td>\n",
       "      <td>0.638789</td>\n",
       "      <td>1</td>\n",
       "      <td>0</td>\n",
       "      <td>0.786845</td>\n",
       "      <td>0</td>\n",
       "      <td>0</td>\n",
       "      <td>0</td>\n",
       "      <td>1</td>\n",
       "      <td>0</td>\n",
       "      <td>0</td>\n",
       "      <td>1</td>\n",
       "      <td>0</td>\n",
       "      <td>1</td>\n",
       "      <td>0</td>\n",
       "      <td>0</td>\n",
       "    </tr>\n",
       "    <tr>\n",
       "      <td>3</td>\n",
       "      <td>3</td>\n",
       "      <td>-0.284663</td>\n",
       "      <td>0</td>\n",
       "      <td>0</td>\n",
       "      <td>-0.488854</td>\n",
       "      <td>0</td>\n",
       "      <td>1</td>\n",
       "      <td>0</td>\n",
       "      <td>0</td>\n",
       "      <td>0</td>\n",
       "      <td>0</td>\n",
       "      <td>1</td>\n",
       "      <td>0</td>\n",
       "      <td>0</td>\n",
       "      <td>0</td>\n",
       "      <td>1</td>\n",
       "    </tr>\n",
       "    <tr>\n",
       "      <td>4</td>\n",
       "      <td>1</td>\n",
       "      <td>0.407926</td>\n",
       "      <td>1</td>\n",
       "      <td>0</td>\n",
       "      <td>0.420730</td>\n",
       "      <td>0</td>\n",
       "      <td>0</td>\n",
       "      <td>0</td>\n",
       "      <td>1</td>\n",
       "      <td>0</td>\n",
       "      <td>0</td>\n",
       "      <td>1</td>\n",
       "      <td>0</td>\n",
       "      <td>0</td>\n",
       "      <td>0</td>\n",
       "      <td>1</td>\n",
       "    </tr>\n",
       "    <tr>\n",
       "      <td>5</td>\n",
       "      <td>3</td>\n",
       "      <td>0.407926</td>\n",
       "      <td>0</td>\n",
       "      <td>0</td>\n",
       "      <td>-0.486337</td>\n",
       "      <td>0</td>\n",
       "      <td>0</td>\n",
       "      <td>1</td>\n",
       "      <td>0</td>\n",
       "      <td>0</td>\n",
       "      <td>0</td>\n",
       "      <td>0</td>\n",
       "      <td>1</td>\n",
       "      <td>0</td>\n",
       "      <td>0</td>\n",
       "      <td>1</td>\n",
       "    </tr>\n",
       "  </tbody>\n",
       "</table>\n",
       "</div>"
      ],
      "text/plain": [
       "             Pclass       Age  SibSp  Parch      Fare  Name_Master.  \\\n",
       "PassengerId                                                           \n",
       "1                 3 -0.592481      1      0 -0.502445             0   \n",
       "2                 1  0.638789      1      0  0.786845             0   \n",
       "3                 3 -0.284663      0      0 -0.488854             0   \n",
       "4                 1  0.407926      1      0  0.420730             0   \n",
       "5                 3  0.407926      0      0 -0.486337             0   \n",
       "\n",
       "             Name_Miss.  Name_Mr.  Name_Mrs.  Name_grp1  Name_grp2  \\\n",
       "PassengerId                                                          \n",
       "1                     0         1          0          0          0   \n",
       "2                     0         0          1          0          0   \n",
       "3                     1         0          0          0          0   \n",
       "4                     0         0          1          0          0   \n",
       "5                     0         1          0          0          0   \n",
       "\n",
       "             Sex_female  Sex_male  Embarked_C  Embarked_Q  Embarked_S  \n",
       "PassengerId                                                            \n",
       "1                     0         1           0           0           1  \n",
       "2                     1         0           1           0           0  \n",
       "3                     1         0           0           0           1  \n",
       "4                     1         0           0           0           1  \n",
       "5                     0         1           0           0           1  "
      ]
     },
     "execution_count": 13,
     "metadata": {},
     "output_type": "execute_result"
    }
   ],
   "source": [
    "xTrain.head()"
   ]
  },
  {
   "cell_type": "markdown",
   "metadata": {},
   "source": [
    "# Different Classifiers and Parameter Tuning "
   ]
  },
  {
   "cell_type": "code",
   "execution_count": 14,
   "metadata": {},
   "outputs": [],
   "source": [
    "def parameterTune(estimator, param_grid):\n",
    "    from sklearn.model_selection import GridSearchCV\n",
    "    grid = GridSearchCV(\n",
    "            estimator  = estimator,\n",
    "            param_grid = param_grid,\n",
    "            n_jobs     = 11,\n",
    "            cv         = 5,\n",
    "\n",
    "    )\n",
    "    grid.fit(xTrain, yTrain)\n",
    "    \n",
    "    return grid.best_score_, grid.best_params_"
   ]
  },
  {
   "cell_type": "code",
   "execution_count": 15,
   "metadata": {},
   "outputs": [],
   "source": [
    "# function to generate submission file\n",
    "def test_eval(estimator, params):\n",
    "    clf = estimator(**params)\n",
    "    clf.fit(xTrain, yTrain)\n",
    "    yPred = clf.predict(xTest)\n",
    "    \n",
    "    df = pd.DataFrame({'PassengerId':Test_id, 'Survived':yPred})\n",
    "    return df"
   ]
  },
  {
   "cell_type": "markdown",
   "metadata": {},
   "source": [
    "## Gaussian Naive Bayes"
   ]
  },
  {
   "cell_type": "code",
   "execution_count": 16,
   "metadata": {},
   "outputs": [],
   "source": [
    "from sklearn.naive_bayes import GaussianNB\n",
    "estimator = GaussianNB()\n",
    "\n",
    "param_grid = {}\n",
    "\n",
    "gnb_best_score_, gnb_best_params_ = parameterTune(estimator, param_grid)\n",
    "gnb_df = test_eval(GaussianNB, gnb_best_params_)"
   ]
  },
  {
   "cell_type": "code",
   "execution_count": 17,
   "metadata": {},
   "outputs": [
    {
     "name": "stdout",
     "output_type": "stream",
     "text": [
      "best_score_: 0.7677044755508129 \n",
      "best_params_: {}\n"
     ]
    }
   ],
   "source": [
    "print('best_score_:',gnb_best_score_,'\\nbest_params_:',gnb_best_params_)"
   ]
  },
  {
   "cell_type": "markdown",
   "metadata": {},
   "source": [
    "## Logistic Regression"
   ]
  },
  {
   "cell_type": "code",
   "execution_count": 18,
   "metadata": {},
   "outputs": [],
   "source": [
    "from sklearn.linear_model import LogisticRegression\n",
    "estimator = LogisticRegression(tol=1e-4, solver='liblinear', random_state=1)\n",
    "\n",
    "param_grid = {\n",
    "    'max_iter' : [1000, 2000, 3000],\n",
    "    'penalty'  : ['l1', 'l2'],\n",
    "    'solver'   : ['liblinear']\n",
    "}\n",
    "\n",
    "lrc_best_score_, lrc_best_params_ = parameterTune(estimator, param_grid)\n",
    "lrc_df = test_eval(LogisticRegression, lrc_best_params_)"
   ]
  },
  {
   "cell_type": "code",
   "execution_count": 19,
   "metadata": {},
   "outputs": [
    {
     "name": "stdout",
     "output_type": "stream",
     "text": [
      "best_score_: 0.8260247316552632 \n",
      "best_params_: {'max_iter': 1000, 'penalty': 'l1', 'solver': 'liblinear'}\n"
     ]
    }
   ],
   "source": [
    "print('best_score_:',lrc_best_score_,'\\nbest_params_:',lrc_best_params_)"
   ]
  },
  {
   "cell_type": "markdown",
   "metadata": {},
   "source": [
    "## KNN"
   ]
  },
  {
   "cell_type": "code",
   "execution_count": 20,
   "metadata": {},
   "outputs": [],
   "source": [
    "from sklearn.neighbors import KNeighborsClassifier\n",
    "estimator = KNeighborsClassifier()\n",
    "\n",
    "param_grid = {\n",
    "    'n_neighbors' : [3, 5, 7, 10],\n",
    "    'weights'     : ['uniform', 'distance'],\n",
    "    'p'           : [1, 2]\n",
    "}\n",
    "\n",
    "knn_best_score_, knn_best_params_ = parameterTune(estimator, param_grid)\n",
    "knn_df = test_eval(KNeighborsClassifier, knn_best_params_)"
   ]
  },
  {
   "cell_type": "code",
   "execution_count": 21,
   "metadata": {},
   "outputs": [
    {
     "name": "stdout",
     "output_type": "stream",
     "text": [
      "best_score_: 0.8282907538760906 \n",
      "best_params_: {'n_neighbors': 10, 'p': 1, 'weights': 'uniform'}\n"
     ]
    }
   ],
   "source": [
    "print('best_score_:',knn_best_score_,'\\nbest_params_:',knn_best_params_)"
   ]
  },
  {
   "cell_type": "markdown",
   "metadata": {},
   "source": [
    "## Support Vector Classifier"
   ]
  },
  {
   "cell_type": "code",
   "execution_count": 22,
   "metadata": {},
   "outputs": [],
   "source": [
    "# instantiating Support Vector Classifier\n",
    "from sklearn.svm import SVC\n",
    "estimator = SVC()\n",
    "\n",
    "param_grid = [\n",
    "    {   'kernel' : ['linear'],\n",
    "        'C'      : [0.1, 1, 10, 100]},\n",
    "    \n",
    "    {   'kernel' : ['rbf'],\n",
    "        'C'      : [0.1, 1, 10, 100],\n",
    "        'gamma'  : ['scale', 'auto'],},\n",
    "]\n",
    "\n",
    "svc_best_score_, svc_best_params_ = parameterTune(estimator, param_grid)\n",
    "svc_df = test_eval(SVC, svc_best_params_)"
   ]
  },
  {
   "cell_type": "code",
   "execution_count": 23,
   "metadata": {},
   "outputs": [
    {
     "name": "stdout",
     "output_type": "stream",
     "text": [
      "best_score_: 0.8338773460548616 \n",
      "best_params_: {'C': 1, 'gamma': 'scale', 'kernel': 'rbf'}\n"
     ]
    }
   ],
   "source": [
    "print('best_score_:',svc_best_score_,'\\nbest_params_:',svc_best_params_)"
   ]
  },
  {
   "cell_type": "markdown",
   "metadata": {},
   "source": [
    "## Random Forest Classifier"
   ]
  },
  {
   "cell_type": "code",
   "execution_count": 24,
   "metadata": {},
   "outputs": [],
   "source": [
    "# instantiating RandomForestClassifier\n",
    "from sklearn.ensemble import RandomForestClassifier\n",
    "estimator = RandomForestClassifier()\n",
    "\n",
    "param_grid = {\n",
    "    'n_estimators' : [50, 100, 250, 500, 750, 1000],\n",
    "    'criterion'    : [\"gini\", \"entropy\"],\n",
    "    'max_features' : [\"auto\", 2, 5, 7, 10],\n",
    "}\n",
    "\n",
    "rfc_best_score_, rfc_best_params_ = parameterTune(estimator, param_grid)\n",
    "rfc_df = test_eval(RandomForestClassifier, rfc_best_params_)"
   ]
  },
  {
   "cell_type": "code",
   "execution_count": 25,
   "metadata": {},
   "outputs": [
    {
     "name": "stdout",
     "output_type": "stream",
     "text": [
      "best_score_: 0.8226790534178645 \n",
      "best_params_: {'criterion': 'gini', 'max_features': 10, 'n_estimators': 250}\n"
     ]
    }
   ],
   "source": [
    "print('best_score_:',rfc_best_score_,'\\nbest_params_:',rfc_best_params_)"
   ]
  },
  {
   "cell_type": "markdown",
   "metadata": {},
   "source": [
    "# Submission File"
   ]
  },
  {
   "cell_type": "code",
   "execution_count": 26,
   "metadata": {},
   "outputs": [
    {
     "data": {
      "text/html": [
       "<div>\n",
       "<style scoped>\n",
       "    .dataframe tbody tr th:only-of-type {\n",
       "        vertical-align: middle;\n",
       "    }\n",
       "\n",
       "    .dataframe tbody tr th {\n",
       "        vertical-align: top;\n",
       "    }\n",
       "\n",
       "    .dataframe thead th {\n",
       "        text-align: right;\n",
       "    }\n",
       "</style>\n",
       "<table border=\"1\" class=\"dataframe\">\n",
       "  <thead>\n",
       "    <tr style=\"text-align: right;\">\n",
       "      <th></th>\n",
       "      <th>GaussianNB</th>\n",
       "      <th>LogisticRegression</th>\n",
       "      <th>KNeighborsClassifier</th>\n",
       "      <th>SVC</th>\n",
       "      <th>RandomForestClassifier</th>\n",
       "    </tr>\n",
       "  </thead>\n",
       "  <tbody>\n",
       "    <tr>\n",
       "      <td>Accuracy</td>\n",
       "      <td>0.767704</td>\n",
       "      <td>0.826025</td>\n",
       "      <td>0.828291</td>\n",
       "      <td>0.833877</td>\n",
       "      <td>0.822679</td>\n",
       "    </tr>\n",
       "  </tbody>\n",
       "</table>\n",
       "</div>"
      ],
      "text/plain": [
       "          GaussianNB  LogisticRegression  KNeighborsClassifier       SVC  \\\n",
       "Accuracy    0.767704            0.826025              0.828291  0.833877   \n",
       "\n",
       "          RandomForestClassifier  \n",
       "Accuracy                0.822679  "
      ]
     },
     "execution_count": 26,
     "metadata": {},
     "output_type": "execute_result"
    }
   ],
   "source": [
    "pd.DataFrame({\n",
    "    'GaussianNB'      : gnb_best_score_,\n",
    "    'LogisticRegression'      : lrc_best_score_,\n",
    "    'KNeighborsClassifier'    : knn_best_score_,\n",
    "    'SVC' : svc_best_score_,\n",
    "    'RandomForestClassifier'  : rfc_best_score_\n",
    "}, index=['Accuracy'])"
   ]
  },
  {
   "cell_type": "code",
   "execution_count": 27,
   "metadata": {},
   "outputs": [],
   "source": [
    "best_params = {\n",
    "    'GaussianNB'              : gnb_best_params_,\n",
    "    'LogisticRegression'      : lrc_best_params_,\n",
    "    'KNeighborsClassifier'    : knn_best_params_,\n",
    "    'SVC'                     : svc_best_params_,\n",
    "    'RandomForestClassifier'  : rfc_best_params_\n",
    "}\n",
    "\n",
    "with open(\"./results/04_.json\", 'w') as file:\n",
    "    json.dump(best_params, file)"
   ]
  },
  {
   "cell_type": "code",
   "execution_count": 28,
   "metadata": {},
   "outputs": [],
   "source": [
    "svc_df.to_csv('./results/04_01_svc.csv', index=None) #0.77990\n",
    "rfc_df.to_csv('./results/04_02_rfc.csv', index=None) #0.74401"
   ]
  }
 ],
 "metadata": {
  "kernelspec": {
   "display_name": "Python 3",
   "language": "python",
   "name": "python3"
  },
  "language_info": {
   "codemirror_mode": {
    "name": "ipython",
    "version": 3
   },
   "file_extension": ".py",
   "mimetype": "text/x-python",
   "name": "python",
   "nbconvert_exporter": "python",
   "pygments_lexer": "ipython3",
   "version": "3.7.4"
  }
 },
 "nbformat": 4,
 "nbformat_minor": 2
}
