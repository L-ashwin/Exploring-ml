{
 "cells": [
  {
   "cell_type": "code",
   "execution_count": 1,
   "metadata": {},
   "outputs": [],
   "source": [
    "from utils.utils_04 import *"
   ]
  },
  {
   "cell_type": "code",
   "execution_count": 2,
   "metadata": {},
   "outputs": [
    {
     "data": {
      "text/html": [
       "<div>\n",
       "<style scoped>\n",
       "    .dataframe tbody tr th:only-of-type {\n",
       "        vertical-align: middle;\n",
       "    }\n",
       "\n",
       "    .dataframe tbody tr th {\n",
       "        vertical-align: top;\n",
       "    }\n",
       "\n",
       "    .dataframe thead th {\n",
       "        text-align: right;\n",
       "    }\n",
       "</style>\n",
       "<table border=\"1\" class=\"dataframe\">\n",
       "  <thead>\n",
       "    <tr style=\"text-align: right;\">\n",
       "      <th></th>\n",
       "      <th>Pclass</th>\n",
       "      <th>Age</th>\n",
       "      <th>SibSp</th>\n",
       "      <th>Parch</th>\n",
       "      <th>Fare</th>\n",
       "      <th>Name_Master.</th>\n",
       "      <th>Name_Miss.</th>\n",
       "      <th>Name_Mr.</th>\n",
       "      <th>Name_Mrs.</th>\n",
       "      <th>Name_grp1</th>\n",
       "      <th>Name_grp2</th>\n",
       "      <th>Sex_female</th>\n",
       "      <th>Sex_male</th>\n",
       "      <th>Embarked_C</th>\n",
       "      <th>Embarked_Q</th>\n",
       "      <th>Embarked_S</th>\n",
       "    </tr>\n",
       "    <tr>\n",
       "      <th>PassengerId</th>\n",
       "      <th></th>\n",
       "      <th></th>\n",
       "      <th></th>\n",
       "      <th></th>\n",
       "      <th></th>\n",
       "      <th></th>\n",
       "      <th></th>\n",
       "      <th></th>\n",
       "      <th></th>\n",
       "      <th></th>\n",
       "      <th></th>\n",
       "      <th></th>\n",
       "      <th></th>\n",
       "      <th></th>\n",
       "      <th></th>\n",
       "      <th></th>\n",
       "    </tr>\n",
       "  </thead>\n",
       "  <tbody>\n",
       "    <tr>\n",
       "      <td>1</td>\n",
       "      <td>3</td>\n",
       "      <td>-0.592481</td>\n",
       "      <td>1</td>\n",
       "      <td>0</td>\n",
       "      <td>-0.502445</td>\n",
       "      <td>0</td>\n",
       "      <td>0</td>\n",
       "      <td>1</td>\n",
       "      <td>0</td>\n",
       "      <td>0</td>\n",
       "      <td>0</td>\n",
       "      <td>0</td>\n",
       "      <td>1</td>\n",
       "      <td>0</td>\n",
       "      <td>0</td>\n",
       "      <td>1</td>\n",
       "    </tr>\n",
       "    <tr>\n",
       "      <td>2</td>\n",
       "      <td>1</td>\n",
       "      <td>0.638789</td>\n",
       "      <td>1</td>\n",
       "      <td>0</td>\n",
       "      <td>0.786845</td>\n",
       "      <td>0</td>\n",
       "      <td>0</td>\n",
       "      <td>0</td>\n",
       "      <td>1</td>\n",
       "      <td>0</td>\n",
       "      <td>0</td>\n",
       "      <td>1</td>\n",
       "      <td>0</td>\n",
       "      <td>1</td>\n",
       "      <td>0</td>\n",
       "      <td>0</td>\n",
       "    </tr>\n",
       "    <tr>\n",
       "      <td>3</td>\n",
       "      <td>3</td>\n",
       "      <td>-0.284663</td>\n",
       "      <td>0</td>\n",
       "      <td>0</td>\n",
       "      <td>-0.488854</td>\n",
       "      <td>0</td>\n",
       "      <td>1</td>\n",
       "      <td>0</td>\n",
       "      <td>0</td>\n",
       "      <td>0</td>\n",
       "      <td>0</td>\n",
       "      <td>1</td>\n",
       "      <td>0</td>\n",
       "      <td>0</td>\n",
       "      <td>0</td>\n",
       "      <td>1</td>\n",
       "    </tr>\n",
       "    <tr>\n",
       "      <td>4</td>\n",
       "      <td>1</td>\n",
       "      <td>0.407926</td>\n",
       "      <td>1</td>\n",
       "      <td>0</td>\n",
       "      <td>0.420730</td>\n",
       "      <td>0</td>\n",
       "      <td>0</td>\n",
       "      <td>0</td>\n",
       "      <td>1</td>\n",
       "      <td>0</td>\n",
       "      <td>0</td>\n",
       "      <td>1</td>\n",
       "      <td>0</td>\n",
       "      <td>0</td>\n",
       "      <td>0</td>\n",
       "      <td>1</td>\n",
       "    </tr>\n",
       "    <tr>\n",
       "      <td>5</td>\n",
       "      <td>3</td>\n",
       "      <td>0.407926</td>\n",
       "      <td>0</td>\n",
       "      <td>0</td>\n",
       "      <td>-0.486337</td>\n",
       "      <td>0</td>\n",
       "      <td>0</td>\n",
       "      <td>1</td>\n",
       "      <td>0</td>\n",
       "      <td>0</td>\n",
       "      <td>0</td>\n",
       "      <td>0</td>\n",
       "      <td>1</td>\n",
       "      <td>0</td>\n",
       "      <td>0</td>\n",
       "      <td>1</td>\n",
       "    </tr>\n",
       "  </tbody>\n",
       "</table>\n",
       "</div>"
      ],
      "text/plain": [
       "             Pclass       Age  SibSp  Parch      Fare  Name_Master.  \\\n",
       "PassengerId                                                           \n",
       "1                 3 -0.592481      1      0 -0.502445             0   \n",
       "2                 1  0.638789      1      0  0.786845             0   \n",
       "3                 3 -0.284663      0      0 -0.488854             0   \n",
       "4                 1  0.407926      1      0  0.420730             0   \n",
       "5                 3  0.407926      0      0 -0.486337             0   \n",
       "\n",
       "             Name_Miss.  Name_Mr.  Name_Mrs.  Name_grp1  Name_grp2  \\\n",
       "PassengerId                                                          \n",
       "1                     0         1          0          0          0   \n",
       "2                     0         0          1          0          0   \n",
       "3                     1         0          0          0          0   \n",
       "4                     0         0          1          0          0   \n",
       "5                     0         1          0          0          0   \n",
       "\n",
       "             Sex_female  Sex_male  Embarked_C  Embarked_Q  Embarked_S  \n",
       "PassengerId                                                            \n",
       "1                     0         1           0           0           1  \n",
       "2                     1         0           1           0           0  \n",
       "3                     1         0           0           0           1  \n",
       "4                     1         0           0           0           1  \n",
       "5                     0         1           0           0           1  "
      ]
     },
     "execution_count": 2,
     "metadata": {},
     "output_type": "execute_result"
    }
   ],
   "source": [
    "xTrain.head()"
   ]
  },
  {
   "cell_type": "markdown",
   "metadata": {},
   "source": [
    "# Individual Classifiers"
   ]
  },
  {
   "cell_type": "markdown",
   "metadata": {},
   "source": [
    "## Gaussian Naive Bayes"
   ]
  },
  {
   "cell_type": "code",
   "execution_count": 3,
   "metadata": {},
   "outputs": [],
   "source": [
    "from sklearn.naive_bayes import GaussianNB\n",
    "estimator = GaussianNB()\n",
    "\n",
    "param_grid = {}\n",
    "\n",
    "gnb_best_score_, gnb_best_params_ = parameterTune(estimator, param_grid)\n",
    "gnb_df = test_eval(GaussianNB, gnb_best_params_)"
   ]
  },
  {
   "cell_type": "code",
   "execution_count": 4,
   "metadata": {},
   "outputs": [
    {
     "name": "stdout",
     "output_type": "stream",
     "text": [
      "best_score_: 0.7677044755508129 \n",
      "best_params_: {}\n"
     ]
    }
   ],
   "source": [
    "print('best_score_:',gnb_best_score_,'\\nbest_params_:',gnb_best_params_)"
   ]
  },
  {
   "cell_type": "markdown",
   "metadata": {},
   "source": [
    "## Logistic Regression"
   ]
  },
  {
   "cell_type": "code",
   "execution_count": 5,
   "metadata": {},
   "outputs": [],
   "source": [
    "from sklearn.linear_model import LogisticRegression\n",
    "estimator = LogisticRegression(tol=1e-4, solver='liblinear', random_state=1)\n",
    "\n",
    "param_grid = {\n",
    "    'max_iter' : [1000, 2000, 3000],\n",
    "    'penalty'  : ['l1', 'l2'],\n",
    "    'solver'   : ['liblinear']\n",
    "}\n",
    "\n",
    "lrc_best_score_, lrc_best_params_ = parameterTune(estimator, param_grid)\n",
    "lrc_df = test_eval(LogisticRegression, lrc_best_params_)"
   ]
  },
  {
   "cell_type": "code",
   "execution_count": 6,
   "metadata": {},
   "outputs": [
    {
     "name": "stdout",
     "output_type": "stream",
     "text": [
      "best_score_: 0.8260247316552632 \n",
      "best_params_: {'max_iter': 1000, 'penalty': 'l1', 'solver': 'liblinear'}\n"
     ]
    }
   ],
   "source": [
    "print('best_score_:',lrc_best_score_,'\\nbest_params_:',lrc_best_params_)"
   ]
  },
  {
   "cell_type": "markdown",
   "metadata": {},
   "source": [
    "## K-Neighbors Classifier"
   ]
  },
  {
   "cell_type": "code",
   "execution_count": 7,
   "metadata": {},
   "outputs": [],
   "source": [
    "from sklearn.neighbors import KNeighborsClassifier\n",
    "estimator = KNeighborsClassifier()\n",
    "\n",
    "param_grid = {\n",
    "    'n_neighbors' : [3, 5, 7, 10],\n",
    "    'weights'     : ['uniform', 'distance'],\n",
    "    'p'           : [1, 2]\n",
    "}\n",
    "\n",
    "knn_best_score_, knn_best_params_ = parameterTune(estimator, param_grid)\n",
    "knn_df = test_eval(KNeighborsClassifier, knn_best_params_)"
   ]
  },
  {
   "cell_type": "code",
   "execution_count": 8,
   "metadata": {},
   "outputs": [
    {
     "name": "stdout",
     "output_type": "stream",
     "text": [
      "best_score_: 0.8282907538760906 \n",
      "best_params_: {'n_neighbors': 10, 'p': 1, 'weights': 'uniform'}\n"
     ]
    }
   ],
   "source": [
    "print('best_score_:',knn_best_score_,'\\nbest_params_:',knn_best_params_)"
   ]
  },
  {
   "cell_type": "markdown",
   "metadata": {},
   "source": [
    "## Support Vector Classifier"
   ]
  },
  {
   "cell_type": "code",
   "execution_count": 9,
   "metadata": {},
   "outputs": [],
   "source": [
    "from sklearn.svm import SVC\n",
    "estimator = SVC()\n",
    "\n",
    "param_grid = [\n",
    "    {   'kernel' : ['linear'],\n",
    "        'C'      : [0.1, 1, 10, 100]},\n",
    "    \n",
    "    {   'kernel' : ['rbf'],\n",
    "        'C'      : [0.1, 1, 10, 100],\n",
    "        'gamma'  : ['scale', 'auto', 1e-1, 1e-2, 1e-3, 1e-4],},\n",
    "]\n",
    "\n",
    "svc_best_score_, svc_best_params_ = parameterTune(estimator, param_grid)\n",
    "svc_df = test_eval(SVC, svc_best_params_)"
   ]
  },
  {
   "cell_type": "code",
   "execution_count": 10,
   "metadata": {},
   "outputs": [
    {
     "name": "stdout",
     "output_type": "stream",
     "text": [
      "best_score_: 0.8372418555018518 \n",
      "best_params_: {'C': 100, 'gamma': 0.01, 'kernel': 'rbf'}\n"
     ]
    }
   ],
   "source": [
    "print('best_score_:',svc_best_score_,'\\nbest_params_:',svc_best_params_)"
   ]
  },
  {
   "cell_type": "markdown",
   "metadata": {},
   "source": [
    "# Ensembles"
   ]
  },
  {
   "cell_type": "markdown",
   "metadata": {},
   "source": [
    "## 1. Bagging"
   ]
  },
  {
   "cell_type": "markdown",
   "metadata": {},
   "source": [
    "## Random Forest Classifier"
   ]
  },
  {
   "cell_type": "code",
   "execution_count": 11,
   "metadata": {},
   "outputs": [],
   "source": [
    "from sklearn.ensemble import RandomForestClassifier\n",
    "estimator = RandomForestClassifier()\n",
    "\n",
    "param_grid = {\n",
    "    'n_estimators' : [50, 100, 250, 500, 750, 1000],\n",
    "    'criterion'    : [\"gini\", \"entropy\"],\n",
    "    'max_depth'    : [2,5,10,15,20],\n",
    "    'max_features' : [\"auto\",\"sqrt\"],\n",
    "}\n",
    "\n",
    "rfc_best_score_, rfc_best_params_ = parameterTune(estimator, param_grid)\n",
    "rfc_df = test_eval(RandomForestClassifier, rfc_best_params_)"
   ]
  },
  {
   "cell_type": "code",
   "execution_count": 12,
   "metadata": {},
   "outputs": [
    {
     "name": "stdout",
     "output_type": "stream",
     "text": [
      "best_score_: 0.8338773460548616 \n",
      "best_params_: {'criterion': 'gini', 'max_depth': 5, 'max_features': 'auto', 'n_estimators': 500}\n"
     ]
    }
   ],
   "source": [
    "print('best_score_:',rfc_best_score_,'\\nbest_params_:',rfc_best_params_)"
   ]
  },
  {
   "cell_type": "markdown",
   "metadata": {},
   "source": [
    "## 2. Boosting"
   ]
  },
  {
   "cell_type": "markdown",
   "metadata": {},
   "source": [
    "## AdaBoostClassifier"
   ]
  },
  {
   "cell_type": "code",
   "execution_count": 13,
   "metadata": {},
   "outputs": [],
   "source": [
    "from sklearn.ensemble import AdaBoostClassifier\n",
    "estimator = AdaBoostClassifier()\n",
    "\n",
    "param_grid = {\n",
    "    'n_estimators' : [20, 50, 100, 250],\n",
    "}\n",
    "\n",
    "adb_best_score_, adb_best_params_ = parameterTune(estimator, param_grid)\n",
    "adb_df = test_eval(AdaBoostClassifier, adb_best_params_)"
   ]
  },
  {
   "cell_type": "code",
   "execution_count": 14,
   "metadata": {},
   "outputs": [
    {
     "name": "stdout",
     "output_type": "stream",
     "text": [
      "best_score_: 0.8249513527085558 \n",
      "best_params_: {'n_estimators': 50}\n"
     ]
    }
   ],
   "source": [
    "print('best_score_:',adb_best_score_,'\\nbest_params_:',adb_best_params_)"
   ]
  },
  {
   "cell_type": "code",
   "execution_count": 15,
   "metadata": {},
   "outputs": [],
   "source": [
    "from sklearn.ensemble import GradientBoostingClassifier\n",
    "estimator = GradientBoostingClassifier()\n",
    "\n",
    "param_grid = {\n",
    "    'loss'          : ['deviance', 'exponential'],\n",
    "    'learning_rate' : [0.1, 0.01],\n",
    "    'n_estimators'  : [100, 250, 500],\n",
    "    'subsample'     : [0.75, 0.9, 1.0],\n",
    "    'max_depth'     : [1, 2, 3, 5, 7],\n",
    "}\n",
    "\n",
    "gdb_best_score_, gdb_best_params_ = parameterTune(estimator, param_grid)\n",
    "gdb_df = test_eval(GradientBoostingClassifier, gdb_best_params_)"
   ]
  },
  {
   "cell_type": "code",
   "execution_count": 16,
   "metadata": {},
   "outputs": [
    {
     "name": "stdout",
     "output_type": "stream",
     "text": [
      "best_score_: 0.8473667691921412 \n",
      "best_params_: {'learning_rate': 0.1, 'loss': 'deviance', 'max_depth': 2, 'n_estimators': 250, 'subsample': 0.9}\n"
     ]
    }
   ],
   "source": [
    "print('best_score_:',gdb_best_score_,'\\nbest_params_:',gdb_best_params_)"
   ]
  },
  {
   "cell_type": "markdown",
   "metadata": {},
   "source": [
    "## 3. Voting Classifiers..."
   ]
  },
  {
   "cell_type": "markdown",
   "metadata": {},
   "source": [
    "# Submission File"
   ]
  },
  {
   "cell_type": "code",
   "execution_count": 17,
   "metadata": {},
   "outputs": [
    {
     "data": {
      "text/html": [
       "<div>\n",
       "<style scoped>\n",
       "    .dataframe tbody tr th:only-of-type {\n",
       "        vertical-align: middle;\n",
       "    }\n",
       "\n",
       "    .dataframe tbody tr th {\n",
       "        vertical-align: top;\n",
       "    }\n",
       "\n",
       "    .dataframe thead th {\n",
       "        text-align: right;\n",
       "    }\n",
       "</style>\n",
       "<table border=\"1\" class=\"dataframe\">\n",
       "  <thead>\n",
       "    <tr style=\"text-align: right;\">\n",
       "      <th></th>\n",
       "      <th>GaussianNB</th>\n",
       "      <th>LogisticRegression</th>\n",
       "      <th>KNeighborsClassifier</th>\n",
       "      <th>SVC</th>\n",
       "      <th>RandomForestClassifier</th>\n",
       "      <th>AdaBoostClassifier</th>\n",
       "      <th>GradientBoostingClassifier</th>\n",
       "    </tr>\n",
       "  </thead>\n",
       "  <tbody>\n",
       "    <tr>\n",
       "      <td>Accuracy</td>\n",
       "      <td>0.767704</td>\n",
       "      <td>0.826025</td>\n",
       "      <td>0.828291</td>\n",
       "      <td>0.837242</td>\n",
       "      <td>0.833877</td>\n",
       "      <td>0.824951</td>\n",
       "      <td>0.847367</td>\n",
       "    </tr>\n",
       "  </tbody>\n",
       "</table>\n",
       "</div>"
      ],
      "text/plain": [
       "          GaussianNB  LogisticRegression  KNeighborsClassifier       SVC  \\\n",
       "Accuracy    0.767704            0.826025              0.828291  0.837242   \n",
       "\n",
       "          RandomForestClassifier  AdaBoostClassifier  \\\n",
       "Accuracy                0.833877            0.824951   \n",
       "\n",
       "          GradientBoostingClassifier  \n",
       "Accuracy                    0.847367  "
      ]
     },
     "execution_count": 17,
     "metadata": {},
     "output_type": "execute_result"
    }
   ],
   "source": [
    "pd.DataFrame({\n",
    "    'GaussianNB'                 : gnb_best_score_,\n",
    "    'LogisticRegression'         : lrc_best_score_,\n",
    "    'KNeighborsClassifier'       : knn_best_score_,\n",
    "    'SVC'                        : svc_best_score_,\n",
    "    'RandomForestClassifier'     : rfc_best_score_,\n",
    "    'AdaBoostClassifier'         : adb_best_score_,\n",
    "    'GradientBoostingClassifier' : gdb_best_score_\n",
    "}, index=['Accuracy'])"
   ]
  },
  {
   "cell_type": "code",
   "execution_count": 18,
   "metadata": {},
   "outputs": [],
   "source": [
    "best_params = {\n",
    "    'GaussianNB'                 : gnb_best_params_,\n",
    "    'LogisticRegression'         : lrc_best_params_,\n",
    "    'KNeighborsClassifier'       : knn_best_params_,\n",
    "    'SVC'                        : svc_best_params_,\n",
    "    'RandomForestClassifier'     : rfc_best_params_,\n",
    "    'AdaBoostClassifier'         : adb_best_params_,\n",
    "    'GradientBoostingClassifier' : gdb_best_params_\n",
    "}\n",
    "\n",
    "with open(\"./results/05_.json\", 'w') as file:\n",
    "    json.dump(best_params, file)"
   ]
  },
  {
   "cell_type": "code",
   "execution_count": 19,
   "metadata": {},
   "outputs": [],
   "source": [
    "#adb_df.to_csv('./results/05_01_adb.csv', index=None) #0.76315\n",
    "#gdb_df.to_csv('./results/05_02_gdb.csv', index=None) #0.77033"
   ]
  },
  {
   "cell_type": "code",
   "execution_count": null,
   "metadata": {},
   "outputs": [],
   "source": []
  }
 ],
 "metadata": {
  "kernelspec": {
   "display_name": "Python 3",
   "language": "python",
   "name": "python3"
  },
  "language_info": {
   "codemirror_mode": {
    "name": "ipython",
    "version": 3
   },
   "file_extension": ".py",
   "mimetype": "text/x-python",
   "name": "python",
   "nbconvert_exporter": "python",
   "pygments_lexer": "ipython3",
   "version": "3.7.4"
  }
 },
 "nbformat": 4,
 "nbformat_minor": 2
}
