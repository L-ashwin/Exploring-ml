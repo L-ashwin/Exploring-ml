{
 "cells": [
  {
   "cell_type": "code",
   "execution_count": 1,
   "metadata": {},
   "outputs": [],
   "source": [
    "import numpy as np\n",
    "import pandas as pd\n",
    "from sklearn.linear_model import LogisticRegression\n",
    "from sklearn. model_selection import cross_val_score\n",
    "from sklearn.impute import KNNImputer"
   ]
  },
  {
   "cell_type": "code",
   "execution_count": 2,
   "metadata": {},
   "outputs": [],
   "source": [
    "# Reading the dataset\n",
    "Train = pd.read_csv('./dataset/train.csv', index_col=0)\n",
    "Test  = pd.read_csv('./dataset/test.csv',  index_col=0)"
   ]
  },
  {
   "cell_type": "code",
   "execution_count": 3,
   "metadata": {},
   "outputs": [],
   "source": [
    "#Encoding categorical features values to integers\n",
    "catg_map = {}\n",
    "for catg in ['Gender','Married','Dependents','Education','Self_Employed','Credit_History','Property_Area']:\n",
    "    unq = Train[catg].unique()\n",
    "    catg_map[catg] = {key:val for val, key in enumerate(unq) if (key==key)}\n",
    "\n",
    "    Train[catg] = Train[catg].map(catg_map[catg])\n",
    "    Test[catg]  = Test[catg].map(catg_map[catg])"
   ]
  },
  {
   "cell_type": "markdown",
   "metadata": {},
   "source": [
    "# Base Model"
   ]
  },
  {
   "cell_type": "code",
   "execution_count": 4,
   "metadata": {},
   "outputs": [],
   "source": [
    "# dropping the examples with missing values for any of the features\n",
    "train = Train.dropna().copy()\n",
    "test  = Test.copy()"
   ]
  },
  {
   "cell_type": "code",
   "execution_count": 5,
   "metadata": {},
   "outputs": [],
   "source": [
    "# splitting into features (xTrain) and labels (yTrain)\n",
    "xTrain = train.drop('Loan_Status', axis=1)\n",
    "yTrain = train['Loan_Status']\n",
    "xTest  = test"
   ]
  },
  {
   "cell_type": "code",
   "execution_count": 6,
   "metadata": {},
   "outputs": [
    {
     "name": "stdout",
     "output_type": "stream",
     "text": [
      "Cross Validation Accuracy for the Base Model: 0.8021\n"
     ]
    }
   ],
   "source": [
    "# instantiating LogisticRegression\n",
    "estimator = LogisticRegression(tol=1e-4, solver='liblinear', random_state=1)\n",
    "\n",
    "# Computing the cross validation accuracy as base model performance estimate.\n",
    "cv = cross_val_score(estimator, xTrain, yTrain, cv=10)\n",
    "print('Cross Validation Accuracy for the Base Model:', round(np.mean(cv), 4))"
   ]
  },
  {
   "cell_type": "markdown",
   "metadata": {},
   "source": [
    "# Filling missing values using mean, median & mode"
   ]
  },
  {
   "cell_type": "code",
   "execution_count": 7,
   "metadata": {},
   "outputs": [],
   "source": [
    "# creating a copy of test and train\n",
    "train = Train.copy()\n",
    "test  = Test.copy()"
   ]
  },
  {
   "cell_type": "code",
   "execution_count": 8,
   "metadata": {},
   "outputs": [
    {
     "name": "stdout",
     "output_type": "stream",
     "text": [
      "Missing values in Train data:\n",
      "Gender               13\n",
      "Married               3\n",
      "Dependents           15\n",
      "Education             0\n",
      "Self_Employed        32\n",
      "ApplicantIncome       0\n",
      "CoapplicantIncome     0\n",
      "LoanAmount           22\n",
      "Loan_Amount_Term     14\n",
      "Credit_History       50\n",
      "Property_Area         0\n",
      "Loan_Status           0\n",
      "dtype: int64\n"
     ]
    }
   ],
   "source": [
    "print('Missing values in Train data:')\n",
    "print(train.isna().sum())"
   ]
  },
  {
   "cell_type": "code",
   "execution_count": 9,
   "metadata": {},
   "outputs": [],
   "source": [
    "# splitting into features (xTrain) and labels (yTrain)\n",
    "xTrain = train.drop('Loan_Status', axis=1)\n",
    "yTrain = train['Loan_Status']\n",
    "xTest  = test"
   ]
  },
  {
   "cell_type": "code",
   "execution_count": 10,
   "metadata": {},
   "outputs": [],
   "source": [
    "#fillna for real valued features with mean\n",
    "for attr in ['LoanAmount']:\n",
    "    fill = xTrain[attr].mean()\n",
    "    xTrain[attr].fillna(fill, inplace=True)\n",
    "    xTest[attr].fillna(fill, inplace=True)"
   ]
  },
  {
   "cell_type": "code",
   "execution_count": 11,
   "metadata": {},
   "outputs": [],
   "source": [
    "# as Fare has skewed distribution using median as central tendancy\n",
    "for attr in ['ApplicantIncome', 'CoapplicantIncome',]:\n",
    "    fill = xTrain[attr].median()\n",
    "    xTrain[attr].fillna(fill, inplace=True)\n",
    "    xTest[attr].fillna(fill, inplace=True)"
   ]
  },
  {
   "cell_type": "code",
   "execution_count": 12,
   "metadata": {},
   "outputs": [],
   "source": [
    "#fillna for categorical features with mode\n",
    "for attr in ['Gender','Married','Dependents','Education','Self_Employed','Credit_History','Property_Area', 'Loan_Amount_Term']:\n",
    "    fill = xTrain[attr].mode()[0]\n",
    "    xTrain[attr].fillna(fill, inplace=True)\n",
    "    xTest[attr].fillna(fill, inplace=True)   "
   ]
  },
  {
   "cell_type": "code",
   "execution_count": 13,
   "metadata": {},
   "outputs": [
    {
     "name": "stdout",
     "output_type": "stream",
     "text": [
      "Missing values in Train data:\n",
      "Gender               0\n",
      "Married              0\n",
      "Dependents           0\n",
      "Education            0\n",
      "Self_Employed        0\n",
      "ApplicantIncome      0\n",
      "CoapplicantIncome    0\n",
      "LoanAmount           0\n",
      "Loan_Amount_Term     0\n",
      "Credit_History       0\n",
      "Property_Area        0\n",
      "dtype: int64\n"
     ]
    }
   ],
   "source": [
    "print('Missing values in Train data:')\n",
    "print(xTrain.isna().sum())"
   ]
  },
  {
   "cell_type": "code",
   "execution_count": 14,
   "metadata": {},
   "outputs": [
    {
     "name": "stdout",
     "output_type": "stream",
     "text": [
      "Cross Validation Accuracy: 0.8079\n"
     ]
    }
   ],
   "source": [
    "# instantiating LogisticRegression\n",
    "estimator = LogisticRegression(tol=1e-4, solver='liblinear', random_state=1)\n",
    "\n",
    "# Computing the cross validation accuracy as base model performance estimate.\n",
    "cv = cross_val_score(estimator, xTrain, yTrain, cv=10)\n",
    "print('Cross Validation Accuracy:', round(np.mean(cv), 4))"
   ]
  },
  {
   "cell_type": "markdown",
   "metadata": {},
   "source": [
    "## KNN Imputer"
   ]
  },
  {
   "cell_type": "code",
   "execution_count": 15,
   "metadata": {},
   "outputs": [],
   "source": [
    "# creating a copy of test and train\n",
    "train = Train.copy()\n",
    "test  = Test.copy()"
   ]
  },
  {
   "cell_type": "code",
   "execution_count": 16,
   "metadata": {},
   "outputs": [
    {
     "name": "stdout",
     "output_type": "stream",
     "text": [
      "Missing values in Train data:\n",
      "Gender               13\n",
      "Married               3\n",
      "Dependents           15\n",
      "Education             0\n",
      "Self_Employed        32\n",
      "ApplicantIncome       0\n",
      "CoapplicantIncome     0\n",
      "LoanAmount           22\n",
      "Loan_Amount_Term     14\n",
      "Credit_History       50\n",
      "Property_Area         0\n",
      "Loan_Status           0\n",
      "dtype: int64\n"
     ]
    }
   ],
   "source": [
    "print('Missing values in Train data:')\n",
    "print(train.isna().sum())"
   ]
  },
  {
   "cell_type": "code",
   "execution_count": 17,
   "metadata": {},
   "outputs": [],
   "source": [
    "# splitting into features (xTrain) and labels (yTrain)\n",
    "xTrain = train.drop('Loan_Status', axis=1)\n",
    "yTrain = train['Loan_Status']\n",
    "xTest  = test"
   ]
  },
  {
   "cell_type": "code",
   "execution_count": 18,
   "metadata": {},
   "outputs": [],
   "source": [
    "impute = KNNImputer()\n",
    "impute.fit(xTrain)\n",
    "\n",
    "xTrain = impute.transform(xTrain)\n",
    "xTest  = impute.transform(xTest)"
   ]
  },
  {
   "cell_type": "code",
   "execution_count": 19,
   "metadata": {},
   "outputs": [
    {
     "name": "stdout",
     "output_type": "stream",
     "text": [
      "Cross Validation Accuracy: 0.8047\n"
     ]
    }
   ],
   "source": [
    "# instantiating LogisticRegression\n",
    "estimator = LogisticRegression(tol=1e-4, solver='liblinear', random_state=1)\n",
    "\n",
    "# Computing the cross validation accuracy as base model performance estimate.\n",
    "cv = cross_val_score(estimator, xTrain, yTrain, cv=10)\n",
    "print('Cross Validation Accuracy:', round(np.mean(cv), 4))"
   ]
  }
 ],
 "metadata": {
  "kernelspec": {
   "display_name": "Python 3",
   "language": "python",
   "name": "python3"
  },
  "language_info": {
   "codemirror_mode": {
    "name": "ipython",
    "version": 3
   },
   "file_extension": ".py",
   "mimetype": "text/x-python",
   "name": "python",
   "nbconvert_exporter": "python",
   "pygments_lexer": "ipython3",
   "version": "3.7.4"
  }
 },
 "nbformat": 4,
 "nbformat_minor": 2
}
