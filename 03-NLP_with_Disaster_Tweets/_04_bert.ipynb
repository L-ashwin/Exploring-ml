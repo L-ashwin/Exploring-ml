{
 "cells": [
  {
   "cell_type": "code",
   "execution_count": null,
   "metadata": {},
   "outputs": [],
   "source": [
    "import pandas as pd\n",
    "import transformers"
   ]
  },
  {
   "cell_type": "code",
   "execution_count": null,
   "metadata": {},
   "outputs": [],
   "source": [
    "import torch\n",
    "import torch.nn as nn"
   ]
  },
  {
   "cell_type": "code",
   "execution_count": null,
   "metadata": {},
   "outputs": [],
   "source": [
    "BERT_Model_str = \"bert-base-uncased\"\n",
    "BERT_Tokenizer = transformers.BertTokenizer.from_pretrained(BERT_Model_str)\n",
    "Bert_Model     = transformers.BertModel.from_pretrained(BERT_Model_str)"
   ]
  },
  {
   "cell_type": "code",
   "execution_count": null,
   "metadata": {},
   "outputs": [],
   "source": [
    "MAX_LEN    = 30\n",
    "BATCH_SIZE = 32"
   ]
  },
  {
   "cell_type": "code",
   "execution_count": null,
   "metadata": {},
   "outputs": [],
   "source": [
    "# load dataset\n",
    "dataset = pd.read_csv('./dataset/train_folds.csv')\n",
    "dataset = dataset[['text', 'target']]\n",
    "dataset.head()"
   ]
  },
  {
   "cell_type": "markdown",
   "metadata": {},
   "source": [
    "# Preparing input for BERT\n",
    "\n",
    "#### First we will create a dataset object, indexing into which will give inputs in the format which is required for BERT Model.\n",
    "#### Then we will create  a dataloader for generating batches."
   ]
  },
  {
   "cell_type": "markdown",
   "metadata": {},
   "source": [
    "### Dataset Object"
   ]
  },
  {
   "cell_type": "code",
   "execution_count": null,
   "metadata": {},
   "outputs": [],
   "source": [
    "class Dataset(object):\n",
    "    def __init__(self, text, target):\n",
    "        self.text    = text\n",
    "        self.target  = target\n",
    "        self.tknzr   = BERT_Tokenizer\n",
    "        self.max_len = MAX_LEN\n",
    "        \n",
    "    def __len__(self):\n",
    "        return len(self.target)\n",
    "    \n",
    "    def __getitem__(self, item_idx):\n",
    "        \n",
    "        text = str(self.text[item_idx])\n",
    "        text = ''.join(text.split()) # to remove any extra spaces (should be moved to preprocess function later)\n",
    "        \n",
    "        tknzr_output    = self.tknzr.encode_plus(text, max_length = self.max_len, truncation=True)\n",
    "        \n",
    "        input_ids       = tknzr_output['input_ids']\n",
    "        token_type_ids  = tknzr_output['token_type_ids']\n",
    "        attention_mask  = tknzr_output['attention_mask']\n",
    "        \n",
    "        padding_length  = self.max_len - len(input_ids) # if len less than MAX_LEN right padding to be added\n",
    "        \n",
    "        input_ids       = torch.tensor(input_ids + [0]*padding_length, dtype=torch.long)\n",
    "        token_type_ids  = torch.tensor(token_type_ids + [0]*padding_length, dtype=torch.long)\n",
    "        attention_mask  = torch.tensor(attention_mask + [0]*padding_length, dtype=torch.long)\n",
    "        \n",
    "        target = torch.tensor(self.target[item_idx], dtype=torch.float)\n",
    "        \n",
    "        #return input_ids, token_type_ids, attention_mask, target\n",
    "        \n",
    "        input_dict = {\n",
    "            'input_ids':input_ids,\n",
    "            'token_type_ids':token_type_ids,\n",
    "            'attention_mask':attention_mask,\n",
    "            'target':target\n",
    "        }\n",
    "        \n",
    "        return input_dict"
   ]
  },
  {
   "cell_type": "code",
   "execution_count": null,
   "metadata": {},
   "outputs": [],
   "source": [
    "tweet_clf_dataset = Dataset(dataset.text.values, dataset.target.values)"
   ]
  },
  {
   "cell_type": "code",
   "execution_count": null,
   "metadata": {},
   "outputs": [],
   "source": [
    "# Original Dataset\n",
    "dataset.loc[1]"
   ]
  },
  {
   "cell_type": "code",
   "execution_count": null,
   "metadata": {},
   "outputs": [],
   "source": [
    "# Dataset object for BERT inputs\n",
    "tweet_clf_dataset[1]"
   ]
  },
  {
   "cell_type": "markdown",
   "metadata": {},
   "source": [
    "### Data Loader for generating batches"
   ]
  },
  {
   "cell_type": "code",
   "execution_count": null,
   "metadata": {},
   "outputs": [],
   "source": [
    "# data loader with given batech size\n",
    "data_loader = torch.utils.data.DataLoader(tweet_clf_dataset, batch_size=2)"
   ]
  },
  {
   "cell_type": "code",
   "execution_count": null,
   "metadata": {},
   "outputs": [],
   "source": [
    "next(iter(data_loader))"
   ]
  },
  {
   "cell_type": "code",
   "execution_count": 1,
   "metadata": {},
   "outputs": [
    {
     "data": {
      "text/plain": [
       "'None'"
      ]
     },
     "execution_count": 1,
     "metadata": {},
     "output_type": "execute_result"
    }
   ],
   "source": [
    "str(None)"
   ]
  },
  {
   "cell_type": "code",
   "execution_count": null,
   "metadata": {},
   "outputs": [],
   "source": []
  }
 ],
 "metadata": {
  "kernelspec": {
   "display_name": "Python 3",
   "language": "python",
   "name": "python3"
  },
  "language_info": {
   "codemirror_mode": {
    "name": "ipython",
    "version": 3
   },
   "file_extension": ".py",
   "mimetype": "text/x-python",
   "name": "python",
   "nbconvert_exporter": "python",
   "pygments_lexer": "ipython3",
   "version": "3.8.3"
  }
 },
 "nbformat": 4,
 "nbformat_minor": 4
}
