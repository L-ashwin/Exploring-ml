{
 "cells": [
  {
   "cell_type": "code",
   "execution_count": 1,
   "metadata": {},
   "outputs": [],
   "source": [
    "import re\n",
    "import numpy as np\n",
    "import pandas as pd\n",
    "\n",
    "import seaborn as sns\n",
    "import matplotlib.pyplot as plt\n",
    "\n",
    "from _00_runBuilder import RunBuilder\n",
    "from IPython.display import display ,clear_output"
   ]
  },
  {
   "cell_type": "code",
   "execution_count": 2,
   "metadata": {},
   "outputs": [],
   "source": [
    "from nltk.corpus import stopwords\n",
    "from nltk.stem import PorterStemmer"
   ]
  },
  {
   "cell_type": "code",
   "execution_count": 3,
   "metadata": {},
   "outputs": [],
   "source": [
    "from tensorflow.keras.preprocessing.text import Tokenizer\n",
    "from tensorflow.keras.preprocessing.sequence import pad_sequences"
   ]
  },
  {
   "cell_type": "code",
   "execution_count": 4,
   "metadata": {},
   "outputs": [],
   "source": [
    "from tensorflow.keras.layers import Embedding\n",
    "from tensorflow.keras.layers import Input, Dense, Dropout, SpatialDropout1D\n",
    "from tensorflow.keras.layers import LSTM, GlobalMaxPool1D, Bidirectional, GRU"
   ]
  },
  {
   "cell_type": "code",
   "execution_count": 5,
   "metadata": {},
   "outputs": [],
   "source": [
    "from tensorflow.keras.models import Model\n",
    "from tensorflow.keras.optimizers import Adam"
   ]
  },
  {
   "cell_type": "code",
   "execution_count": 6,
   "metadata": {},
   "outputs": [],
   "source": [
    "def preProc(tweet, remove_stopwords = False):\n",
    "    tweet = re.sub('http\\S+','', tweet)\n",
    "    tweet = re.sub('[^A-Za-z]', ' ', tweet)\n",
    "    tweet = tweet.lower()\n",
    "    tweet = tweet.split()\n",
    "    if remove_stopwords:\n",
    "        tweet = [word for word in tweet if word not in stopwords.words('english')]\n",
    "    tweet = ' '.join(tweet)\n",
    "    return tweet"
   ]
  },
  {
   "cell_type": "code",
   "execution_count": 7,
   "metadata": {},
   "outputs": [],
   "source": [
    "def get_word2vec(EMBD_DIM):\n",
    "    word2vec = {}\n",
    "    with open(f'/home/ashwin/Documents/datasets/glove.6B/glove.6B.{EMBD_DIM}d.txt') as file:\n",
    "        for line in file:\n",
    "            word, *vec = line.split()\n",
    "            word2vec[word] = np.asarray(vec, dtype='float32')\n",
    "    return word2vec"
   ]
  },
  {
   "cell_type": "code",
   "execution_count": 8,
   "metadata": {},
   "outputs": [
    {
     "data": {
      "text/html": [
       "<div>\n",
       "<style scoped>\n",
       "    .dataframe tbody tr th:only-of-type {\n",
       "        vertical-align: middle;\n",
       "    }\n",
       "\n",
       "    .dataframe tbody tr th {\n",
       "        vertical-align: top;\n",
       "    }\n",
       "\n",
       "    .dataframe thead th {\n",
       "        text-align: right;\n",
       "    }\n",
       "</style>\n",
       "<table border=\"1\" class=\"dataframe\">\n",
       "  <thead>\n",
       "    <tr style=\"text-align: right;\">\n",
       "      <th></th>\n",
       "      <th>keyword</th>\n",
       "      <th>location</th>\n",
       "      <th>text</th>\n",
       "      <th>target</th>\n",
       "      <th>fold</th>\n",
       "    </tr>\n",
       "  </thead>\n",
       "  <tbody>\n",
       "    <tr>\n",
       "      <th>0</th>\n",
       "      <td>NaN</td>\n",
       "      <td>NaN</td>\n",
       "      <td>Our Deeds are the Reason of this #earthquake M...</td>\n",
       "      <td>1</td>\n",
       "      <td>2.0</td>\n",
       "    </tr>\n",
       "    <tr>\n",
       "      <th>1</th>\n",
       "      <td>NaN</td>\n",
       "      <td>NaN</td>\n",
       "      <td>Forest fire near La Ronge Sask. Canada</td>\n",
       "      <td>1</td>\n",
       "      <td>3.0</td>\n",
       "    </tr>\n",
       "    <tr>\n",
       "      <th>2</th>\n",
       "      <td>NaN</td>\n",
       "      <td>NaN</td>\n",
       "      <td>All residents asked to 'shelter in place' are ...</td>\n",
       "      <td>1</td>\n",
       "      <td>2.0</td>\n",
       "    </tr>\n",
       "    <tr>\n",
       "      <th>3</th>\n",
       "      <td>NaN</td>\n",
       "      <td>NaN</td>\n",
       "      <td>13,000 people receive #wildfires evacuation or...</td>\n",
       "      <td>1</td>\n",
       "      <td>1.0</td>\n",
       "    </tr>\n",
       "    <tr>\n",
       "      <th>4</th>\n",
       "      <td>NaN</td>\n",
       "      <td>NaN</td>\n",
       "      <td>Just got sent this photo from Ruby #Alaska as ...</td>\n",
       "      <td>1</td>\n",
       "      <td>3.0</td>\n",
       "    </tr>\n",
       "  </tbody>\n",
       "</table>\n",
       "</div>"
      ],
      "text/plain": [
       "  keyword location                                               text  target  \\\n",
       "0     NaN      NaN  Our Deeds are the Reason of this #earthquake M...       1   \n",
       "1     NaN      NaN             Forest fire near La Ronge Sask. Canada       1   \n",
       "2     NaN      NaN  All residents asked to 'shelter in place' are ...       1   \n",
       "3     NaN      NaN  13,000 people receive #wildfires evacuation or...       1   \n",
       "4     NaN      NaN  Just got sent this photo from Ruby #Alaska as ...       1   \n",
       "\n",
       "   fold  \n",
       "0   2.0  \n",
       "1   3.0  \n",
       "2   2.0  \n",
       "3   1.0  \n",
       "4   3.0  "
      ]
     },
     "execution_count": 8,
     "metadata": {},
     "output_type": "execute_result"
    }
   ],
   "source": [
    "# load dataset\n",
    "data = pd.read_csv('./dataset/train_folds.csv')\n",
    "data.head()"
   ]
  },
  {
   "cell_type": "code",
   "execution_count": 9,
   "metadata": {},
   "outputs": [],
   "source": [
    "xData = data.text\n",
    "yData = data.target\n",
    "folds = data.fold"
   ]
  },
  {
   "cell_type": "code",
   "execution_count": 10,
   "metadata": {},
   "outputs": [],
   "source": [
    "# pre-processing tweets\n",
    "REMOVE_STOPWORDS = False\n",
    "xData = xData.map(lambda tweet:preProc(tweet, REMOVE_STOPWORDS))"
   ]
  },
  {
   "cell_type": "code",
   "execution_count": 11,
   "metadata": {},
   "outputs": [
    {
     "data": {
      "image/png": "[encoded data removed]",
      "text/plain": [
       "<Figure size 432x288 with 1 Axes>"
      ]
     },
     "metadata": {
      "needs_background": "light"
     },
     "output_type": "display_data"
    }
   ],
   "source": [
    "sns.distplot([len(line.split()) for line in xData], kde=False, bins=10)\n",
    "plt.show()"
   ]
  },
  {
   "cell_type": "code",
   "execution_count": 12,
   "metadata": {},
   "outputs": [],
   "source": [
    "EMBD_DIM  = 100\n",
    "MAX_LEN   = 30\n",
    "MAX_VOCAB = 2000"
   ]
  },
  {
   "cell_type": "code",
   "execution_count": 13,
   "metadata": {},
   "outputs": [],
   "source": [
    "word2vec = get_word2vec(EMBD_DIM)"
   ]
  },
  {
   "cell_type": "code",
   "execution_count": 14,
   "metadata": {},
   "outputs": [],
   "source": [
    "tkn = Tokenizer(num_words=MAX_VOCAB)\n",
    "tkn.fit_on_texts(xData)\n",
    "seqs = tkn.texts_to_sequences(xData)\n",
    "seqs = pad_sequences(seqs, maxlen=MAX_LEN)"
   ]
  },
  {
   "cell_type": "code",
   "execution_count": 15,
   "metadata": {},
   "outputs": [],
   "source": [
    "word2idx          = tkn.word_index\n",
    "num_words         = min(MAX_VOCAB, len(word2idx)+1)\n",
    "emmbedding_matrix = np.zeros((num_words, EMBD_DIM))\n",
    "\n",
    "for word, i in word2idx.items():\n",
    "    if i < num_words:\n",
    "        emmbedding_vec = word2vec.get(word)\n",
    "        if emmbedding_vec is not None:\n",
    "            emmbedding_matrix[i] = emmbedding_vec"
   ]
  },
  {
   "cell_type": "code",
   "execution_count": 16,
   "metadata": {},
   "outputs": [],
   "source": [
    "embedding_layer  = Embedding(\n",
    "    \n",
    "    input_dim    = num_words,\n",
    "    output_dim   = EMBD_DIM,\n",
    "    input_length = MAX_LEN,\n",
    "    weights      = [emmbedding_matrix],\n",
    "    trainable    = False\n",
    "\n",
    ")"
   ]
  },
  {
   "cell_type": "code",
   "execution_count": 17,
   "metadata": {},
   "outputs": [],
   "source": [
    "ip = Input(shape=(MAX_LEN, ))\n",
    "x  = embedding_layer(ip)\n",
    "x  = SpatialDropout1D(.2)(x)\n",
    "x  = Bidirectional(GRU(units=6, return_sequences=True, dropout=.3, recurrent_dropout=.3, ))(x)\n",
    "#x  = Dropout(0.3)(x)\n",
    "x  = GlobalMaxPool1D()(x)\n",
    "op = Dense(1, activation=\"sigmoid\")(x)"
   ]
  },
  {
   "cell_type": "code",
   "execution_count": 18,
   "metadata": {},
   "outputs": [],
   "source": [
    "model = Model(ip, op)\n",
    "\n",
    "model.compile(\n",
    "  loss='binary_crossentropy',\n",
    "  optimizer=Adam(lr=0.01),\n",
    "  metrics=['accuracy'],\n",
    ")"
   ]
  },
  {
   "cell_type": "code",
   "execution_count": 19,
   "metadata": {},
   "outputs": [
    {
     "name": "stdout",
     "output_type": "stream",
     "text": [
      "Model: \"functional_1\"\n",
      "_________________________________________________________________\n",
      "Layer (type)                 Output Shape              Param #   \n",
      "=================================================================\n",
      "input_1 (InputLayer)         [(None, 30)]              0         \n",
      "_________________________________________________________________\n",
      "embedding (Embedding)        (None, 30, 100)           200000    \n",
      "_________________________________________________________________\n",
      "spatial_dropout1d (SpatialDr (None, 30, 100)           0         \n",
      "_________________________________________________________________\n",
      "bidirectional (Bidirectional (None, 30, 12)            3888      \n",
      "_________________________________________________________________\n",
      "global_max_pooling1d (Global (None, 12)                0         \n",
      "_________________________________________________________________\n",
      "dense (Dense)                (None, 1)                 13        \n",
      "=================================================================\n",
      "Total params: 203,901\n",
      "Trainable params: 3,901\n",
      "Non-trainable params: 200,000\n",
      "_________________________________________________________________\n"
     ]
    }
   ],
   "source": [
    "model.summary()"
   ]
  },
  {
   "cell_type": "code",
   "execution_count": 20,
   "metadata": {},
   "outputs": [
    {
     "name": "stdout",
     "output_type": "stream",
     "text": [
      "Epoch 1/50\n",
      "21/21 [==============================] - 1s 41ms/step - loss: 0.6020 - accuracy: 0.6750 - val_loss: 0.5062 - val_accuracy: 0.7710\n",
      "Epoch 2/50\n",
      "21/21 [==============================] - 1s 26ms/step - loss: 0.5097 - accuracy: 0.7585 - val_loss: 0.4684 - val_accuracy: 0.7903\n",
      "Epoch 3/50\n",
      "21/21 [==============================] - 1s 28ms/step - loss: 0.4866 - accuracy: 0.7716 - val_loss: 0.4536 - val_accuracy: 0.8008\n",
      "Epoch 4/50\n",
      "21/21 [==============================] - 1s 26ms/step - loss: 0.4781 - accuracy: 0.7756 - val_loss: 0.4495 - val_accuracy: 0.8025\n",
      "Epoch 5/50\n",
      "21/21 [==============================] - 1s 28ms/step - loss: 0.4621 - accuracy: 0.7930 - val_loss: 0.4536 - val_accuracy: 0.8012\n",
      "Epoch 6/50\n",
      "21/21 [==============================] - 1s 29ms/step - loss: 0.4602 - accuracy: 0.7925 - val_loss: 0.4463 - val_accuracy: 0.8052\n",
      "Epoch 7/50\n",
      "21/21 [==============================] - 1s 29ms/step - loss: 0.4525 - accuracy: 0.7949 - val_loss: 0.4472 - val_accuracy: 0.8012\n",
      "Epoch 8/50\n",
      "21/21 [==============================] - 1s 27ms/step - loss: 0.4507 - accuracy: 0.7975 - val_loss: 0.4515 - val_accuracy: 0.7960\n",
      "Epoch 9/50\n",
      "21/21 [==============================] - 1s 27ms/step - loss: 0.4486 - accuracy: 0.7968 - val_loss: 0.4512 - val_accuracy: 0.7916\n",
      "Epoch 10/50\n",
      "21/21 [==============================] - 1s 27ms/step - loss: 0.4509 - accuracy: 0.7955 - val_loss: 0.4456 - val_accuracy: 0.8065\n",
      "Epoch 11/50\n",
      "21/21 [==============================] - 1s 29ms/step - loss: 0.4425 - accuracy: 0.8002 - val_loss: 0.4447 - val_accuracy: 0.8139\n",
      "Epoch 12/50\n",
      "21/21 [==============================] - 1s 29ms/step - loss: 0.4446 - accuracy: 0.8028 - val_loss: 0.4462 - val_accuracy: 0.7990\n",
      "Epoch 13/50\n",
      "21/21 [==============================] - 1s 27ms/step - loss: 0.4427 - accuracy: 0.7992 - val_loss: 0.4346 - val_accuracy: 0.8034\n",
      "Epoch 14/50\n",
      "21/21 [==============================] - 1s 29ms/step - loss: 0.4378 - accuracy: 0.8039 - val_loss: 0.4384 - val_accuracy: 0.8126\n",
      "Epoch 15/50\n",
      "21/21 [==============================] - 1s 27ms/step - loss: 0.4341 - accuracy: 0.8071 - val_loss: 0.4462 - val_accuracy: 0.8008\n",
      "Epoch 16/50\n",
      "21/21 [==============================] - 1s 27ms/step - loss: 0.4378 - accuracy: 0.8063 - val_loss: 0.4417 - val_accuracy: 0.7947\n",
      "Epoch 17/50\n",
      "21/21 [==============================] - 1s 28ms/step - loss: 0.4304 - accuracy: 0.8097 - val_loss: 0.4453 - val_accuracy: 0.7951\n",
      "Epoch 18/50\n",
      "21/21 [==============================] - 1s 27ms/step - loss: 0.4294 - accuracy: 0.8110 - val_loss: 0.4462 - val_accuracy: 0.7942\n",
      "Epoch 19/50\n",
      "21/21 [==============================] - 1s 30ms/step - loss: 0.4342 - accuracy: 0.8030 - val_loss: 0.4348 - val_accuracy: 0.8039\n",
      "Epoch 20/50\n",
      "21/21 [==============================] - 1s 28ms/step - loss: 0.4288 - accuracy: 0.8084 - val_loss: 0.4361 - val_accuracy: 0.8047\n",
      "Epoch 21/50\n",
      "21/21 [==============================] - 1s 27ms/step - loss: 0.4275 - accuracy: 0.8043 - val_loss: 0.4386 - val_accuracy: 0.8012\n",
      "Epoch 22/50\n",
      "21/21 [==============================] - 1s 28ms/step - loss: 0.4269 - accuracy: 0.8112 - val_loss: 0.4499 - val_accuracy: 0.7942\n",
      "Epoch 23/50\n",
      "21/21 [==============================] - 1s 26ms/step - loss: 0.4256 - accuracy: 0.8107 - val_loss: 0.4408 - val_accuracy: 0.8100\n",
      "Epoch 24/50\n",
      "21/21 [==============================] - 1s 26ms/step - loss: 0.4275 - accuracy: 0.8133 - val_loss: 0.4432 - val_accuracy: 0.8034\n",
      "Epoch 25/50\n",
      "21/21 [==============================] - 1s 28ms/step - loss: 0.4316 - accuracy: 0.8052 - val_loss: 0.4398 - val_accuracy: 0.8109\n",
      "Epoch 26/50\n",
      "21/21 [==============================] - 1s 26ms/step - loss: 0.4267 - accuracy: 0.8088 - val_loss: 0.4419 - val_accuracy: 0.8113\n",
      "Epoch 27/50\n",
      "21/21 [==============================] - 1s 28ms/step - loss: 0.4319 - accuracy: 0.8101 - val_loss: 0.4364 - val_accuracy: 0.8109\n",
      "Epoch 28/50\n",
      "21/21 [==============================] - 1s 30ms/step - loss: 0.4261 - accuracy: 0.8043 - val_loss: 0.4384 - val_accuracy: 0.8039\n",
      "Epoch 29/50\n",
      "21/21 [==============================] - 1s 27ms/step - loss: 0.4263 - accuracy: 0.8092 - val_loss: 0.4373 - val_accuracy: 0.8074\n",
      "Epoch 30/50\n",
      "21/21 [==============================] - 1s 27ms/step - loss: 0.4272 - accuracy: 0.8108 - val_loss: 0.4392 - val_accuracy: 0.8130\n",
      "Epoch 31/50\n",
      "21/21 [==============================] - 1s 27ms/step - loss: 0.4266 - accuracy: 0.8052 - val_loss: 0.4480 - val_accuracy: 0.8126\n",
      "Epoch 32/50\n",
      "21/21 [==============================] - 1s 28ms/step - loss: 0.4227 - accuracy: 0.8140 - val_loss: 0.4531 - val_accuracy: 0.7964\n",
      "Epoch 33/50\n",
      "21/21 [==============================] - 1s 28ms/step - loss: 0.4236 - accuracy: 0.8090 - val_loss: 0.4450 - val_accuracy: 0.7999\n",
      "Epoch 34/50\n",
      "21/21 [==============================] - 1s 26ms/step - loss: 0.4161 - accuracy: 0.8144 - val_loss: 0.4408 - val_accuracy: 0.8052\n",
      "Epoch 35/50\n",
      "21/21 [==============================] - 1s 29ms/step - loss: 0.4234 - accuracy: 0.8122 - val_loss: 0.4419 - val_accuracy: 0.7999\n",
      "Epoch 36/50\n",
      "21/21 [==============================] - 1s 27ms/step - loss: 0.4209 - accuracy: 0.8176 - val_loss: 0.4370 - val_accuracy: 0.8030\n",
      "Epoch 37/50\n",
      "21/21 [==============================] - 1s 28ms/step - loss: 0.4284 - accuracy: 0.8075 - val_loss: 0.4444 - val_accuracy: 0.7990\n",
      "Epoch 38/50\n",
      "21/21 [==============================] - 1s 28ms/step - loss: 0.4200 - accuracy: 0.8103 - val_loss: 0.4408 - val_accuracy: 0.8122\n",
      "Epoch 39/50\n",
      "21/21 [==============================] - 1s 28ms/step - loss: 0.4116 - accuracy: 0.8172 - val_loss: 0.4440 - val_accuracy: 0.8122\n",
      "Epoch 40/50\n",
      "21/21 [==============================] - 1s 28ms/step - loss: 0.4243 - accuracy: 0.8095 - val_loss: 0.4441 - val_accuracy: 0.8047\n",
      "Epoch 41/50\n",
      "21/21 [==============================] - 1s 29ms/step - loss: 0.4197 - accuracy: 0.8105 - val_loss: 0.4456 - val_accuracy: 0.8113\n",
      "Epoch 42/50\n",
      "21/21 [==============================] - 1s 27ms/step - loss: 0.4216 - accuracy: 0.8133 - val_loss: 0.4563 - val_accuracy: 0.7938\n",
      "Epoch 43/50\n",
      "21/21 [==============================] - 1s 28ms/step - loss: 0.4206 - accuracy: 0.8107 - val_loss: 0.4494 - val_accuracy: 0.8004\n",
      "Epoch 44/50\n",
      "21/21 [==============================] - 1s 28ms/step - loss: 0.4248 - accuracy: 0.8095 - val_loss: 0.4524 - val_accuracy: 0.7999\n",
      "Epoch 45/50\n",
      "21/21 [==============================] - 1s 28ms/step - loss: 0.4192 - accuracy: 0.8144 - val_loss: 0.4601 - val_accuracy: 0.7995\n",
      "Epoch 46/50\n",
      "21/21 [==============================] - 1s 29ms/step - loss: 0.4222 - accuracy: 0.8052 - val_loss: 0.4549 - val_accuracy: 0.7995\n",
      "Epoch 47/50\n",
      "21/21 [==============================] - 1s 28ms/step - loss: 0.4215 - accuracy: 0.8075 - val_loss: 0.4536 - val_accuracy: 0.7942\n",
      "Epoch 48/50\n",
      "21/21 [==============================] - 1s 28ms/step - loss: 0.4188 - accuracy: 0.8148 - val_loss: 0.4500 - val_accuracy: 0.8034\n",
      "Epoch 49/50\n",
      "21/21 [==============================] - 1s 28ms/step - loss: 0.4234 - accuracy: 0.8090 - val_loss: 0.4458 - val_accuracy: 0.7973\n",
      "Epoch 50/50\n",
      "21/21 [==============================] - 1s 28ms/step - loss: 0.4233 - accuracy: 0.8086 - val_loss: 0.4447 - val_accuracy: 0.8052\n"
     ]
    }
   ],
   "source": [
    "log = model.fit(\n",
    "  seqs,\n",
    "  yData,\n",
    "  batch_size=256,\n",
    "  epochs=50,\n",
    "  validation_split=.3\n",
    ")"
   ]
  },
  {
   "cell_type": "code",
   "execution_count": 21,
   "metadata": {},
   "outputs": [
    {
     "data": {
      "image/png": "[encoded data removed]",
      "text/plain": [
       "<Figure size 432x288 with 1 Axes>"
      ]
     },
     "metadata": {
      "needs_background": "light"
     },
     "output_type": "display_data"
    }
   ],
   "source": [
    "plt.plot(log.history['loss'], label='loss')\n",
    "plt.plot(log.history['val_loss'], label='val_loss')\n",
    "plt.legend()\n",
    "plt.show()"
   ]
  },
  {
   "cell_type": "code",
   "execution_count": null,
   "metadata": {},
   "outputs": [],
   "source": []
  }
 ],
 "metadata": {
  "kernelspec": {
   "display_name": "Python 3",
   "language": "python",
   "name": "python3"
  },
  "language_info": {
   "codemirror_mode": {
    "name": "ipython",
    "version": 3
   },
   "file_extension": ".py",
   "mimetype": "text/x-python",
   "name": "python",
   "nbconvert_exporter": "python",
   "pygments_lexer": "ipython3",
   "version": "3.8.3"
  }
 },
 "nbformat": 4,
 "nbformat_minor": 4
}
