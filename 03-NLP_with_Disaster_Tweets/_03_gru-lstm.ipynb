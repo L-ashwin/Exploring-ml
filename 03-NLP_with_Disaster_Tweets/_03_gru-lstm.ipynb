{
 "cells": [
  {
   "cell_type": "code",
   "execution_count": 1,
   "metadata": {},
   "outputs": [],
   "source": [
    "import re\n",
    "import numpy as np\n",
    "import pandas as pd\n",
    "\n",
    "import seaborn as sns\n",
    "import matplotlib.pyplot as plt\n",
    "\n",
    "from _00_runBuilder import RunBuilder\n",
    "from IPython.display import display ,clear_output"
   ]
  },
  {
   "cell_type": "code",
   "execution_count": 2,
   "metadata": {},
   "outputs": [],
   "source": [
    "from nltk.corpus import stopwords\n",
    "from nltk.stem import PorterStemmer"
   ]
  },
  {
   "cell_type": "code",
   "execution_count": 3,
   "metadata": {},
   "outputs": [],
   "source": [
    "from tensorflow.keras.preprocessing.text import Tokenizer\n",
    "from tensorflow.keras.preprocessing.sequence import pad_sequences"
   ]
  },
  {
   "cell_type": "code",
   "execution_count": 4,
   "metadata": {},
   "outputs": [],
   "source": [
    "from tensorflow.keras.layers import Embedding\n",
    "from tensorflow.keras.layers import Input, Dense, Dropout, SpatialDropout1D\n",
    "from tensorflow.keras.layers import LSTM, GlobalMaxPool1D, Bidirectional, GRU"
   ]
  },
  {
   "cell_type": "code",
   "execution_count": 5,
   "metadata": {},
   "outputs": [],
   "source": [
    "from tensorflow.keras.models import Model\n",
    "from tensorflow.keras.optimizers import Adam"
   ]
  },
  {
   "cell_type": "code",
   "execution_count": 6,
   "metadata": {},
   "outputs": [],
   "source": [
    "def preProc(tweet, remove_stopwords = False):\n",
    "    tweet = re.sub('http\\S+','', tweet)\n",
    "    tweet = re.sub('[^A-Za-z]', ' ', tweet)\n",
    "    tweet = tweet.lower()\n",
    "    tweet = tweet.split()\n",
    "    if remove_stopwords:\n",
    "        tweet = [word for word in tweet if word not in stopwords.words('english')]\n",
    "    tweet = ' '.join(tweet)\n",
    "    return tweet"
   ]
  },
  {
   "cell_type": "code",
   "execution_count": 7,
   "metadata": {},
   "outputs": [],
   "source": [
    "def get_word2vec(EMBD_DIM):\n",
    "    word2vec = {}\n",
    "    with open(f'/home/ashwin/Documents/datasets/glove.6B/glove.6B.{EMBD_DIM}d.txt') as file:\n",
    "        for line in file:\n",
    "            word, *vec = line.split()\n",
    "            word2vec[word] = np.asarray(vec, dtype='float32')\n",
    "    return word2vec"
   ]
  },
  {
   "cell_type": "code",
   "execution_count": 8,
   "metadata": {},
   "outputs": [
    {
     "data": {
      "text/html": [
       "<div>\n",
       "<style scoped>\n",
       "    .dataframe tbody tr th:only-of-type {\n",
       "        vertical-align: middle;\n",
       "    }\n",
       "\n",
       "    .dataframe tbody tr th {\n",
       "        vertical-align: top;\n",
       "    }\n",
       "\n",
       "    .dataframe thead th {\n",
       "        text-align: right;\n",
       "    }\n",
       "</style>\n",
       "<table border=\"1\" class=\"dataframe\">\n",
       "  <thead>\n",
       "    <tr style=\"text-align: right;\">\n",
       "      <th></th>\n",
       "      <th>keyword</th>\n",
       "      <th>location</th>\n",
       "      <th>text</th>\n",
       "      <th>target</th>\n",
       "      <th>fold</th>\n",
       "    </tr>\n",
       "  </thead>\n",
       "  <tbody>\n",
       "    <tr>\n",
       "      <th>0</th>\n",
       "      <td>NaN</td>\n",
       "      <td>NaN</td>\n",
       "      <td>Our Deeds are the Reason of this #earthquake M...</td>\n",
       "      <td>1</td>\n",
       "      <td>2.0</td>\n",
       "    </tr>\n",
       "    <tr>\n",
       "      <th>1</th>\n",
       "      <td>NaN</td>\n",
       "      <td>NaN</td>\n",
       "      <td>Forest fire near La Ronge Sask. Canada</td>\n",
       "      <td>1</td>\n",
       "      <td>3.0</td>\n",
       "    </tr>\n",
       "    <tr>\n",
       "      <th>2</th>\n",
       "      <td>NaN</td>\n",
       "      <td>NaN</td>\n",
       "      <td>All residents asked to 'shelter in place' are ...</td>\n",
       "      <td>1</td>\n",
       "      <td>2.0</td>\n",
       "    </tr>\n",
       "    <tr>\n",
       "      <th>3</th>\n",
       "      <td>NaN</td>\n",
       "      <td>NaN</td>\n",
       "      <td>13,000 people receive #wildfires evacuation or...</td>\n",
       "      <td>1</td>\n",
       "      <td>1.0</td>\n",
       "    </tr>\n",
       "    <tr>\n",
       "      <th>4</th>\n",
       "      <td>NaN</td>\n",
       "      <td>NaN</td>\n",
       "      <td>Just got sent this photo from Ruby #Alaska as ...</td>\n",
       "      <td>1</td>\n",
       "      <td>3.0</td>\n",
       "    </tr>\n",
       "  </tbody>\n",
       "</table>\n",
       "</div>"
      ],
      "text/plain": [
       "  keyword location                                               text  target  \\\n",
       "0     NaN      NaN  Our Deeds are the Reason of this #earthquake M...       1   \n",
       "1     NaN      NaN             Forest fire near La Ronge Sask. Canada       1   \n",
       "2     NaN      NaN  All residents asked to 'shelter in place' are ...       1   \n",
       "3     NaN      NaN  13,000 people receive #wildfires evacuation or...       1   \n",
       "4     NaN      NaN  Just got sent this photo from Ruby #Alaska as ...       1   \n",
       "\n",
       "   fold  \n",
       "0   2.0  \n",
       "1   3.0  \n",
       "2   2.0  \n",
       "3   1.0  \n",
       "4   3.0  "
      ]
     },
     "execution_count": 8,
     "metadata": {},
     "output_type": "execute_result"
    }
   ],
   "source": [
    "# load dataset\n",
    "data = pd.read_csv('./dataset/train_folds.csv')\n",
    "data.head()"
   ]
  },
  {
   "cell_type": "code",
   "execution_count": 9,
   "metadata": {},
   "outputs": [],
   "source": [
    "xData = data.text\n",
    "yData = data.target\n",
    "folds = data.fold"
   ]
  },
  {
   "cell_type": "code",
   "execution_count": 10,
   "metadata": {},
   "outputs": [],
   "source": [
    "# pre-processing tweets\n",
    "REMOVE_STOPWORDS = False\n",
    "xData = xData.map(lambda tweet:preProc(tweet, REMOVE_STOPWORDS))"
   ]
  },
  {
   "cell_type": "code",
   "execution_count": 11,
   "metadata": {},
   "outputs": [
    {
     "data": {
      "image/png": "[encoded data removed]",
      "text/plain": [
       "<Figure size 432x288 with 1 Axes>"
      ]
     },
     "metadata": {
      "needs_background": "light"
     },
     "output_type": "display_data"
    }
   ],
   "source": [
    "sns.distplot([len(line.split()) for line in xData], kde=False, bins=10)\n",
    "plt.show()"
   ]
  },
  {
   "cell_type": "code",
   "execution_count": 12,
   "metadata": {},
   "outputs": [],
   "source": [
    "EMBD_DIM  = 100\n",
    "MAX_LEN   = 30\n",
    "MAX_VOCAB = 2000"
   ]
  },
  {
   "cell_type": "code",
   "execution_count": 13,
   "metadata": {},
   "outputs": [],
   "source": [
    "word2vec = get_word2vec(EMBD_DIM)"
   ]
  },
  {
   "cell_type": "code",
   "execution_count": 14,
   "metadata": {},
   "outputs": [],
   "source": [
    "tkn = Tokenizer(num_words=MAX_VOCAB)\n",
    "tkn.fit_on_texts(xData)\n",
    "seqs = tkn.texts_to_sequences(xData)\n",
    "seqs = pad_sequences(seqs, maxlen=MAX_LEN)"
   ]
  },
  {
   "cell_type": "code",
   "execution_count": 15,
   "metadata": {},
   "outputs": [],
   "source": [
    "word2idx          = tkn.word_index\n",
    "num_words         = min(MAX_VOCAB, len(word2idx)+1)\n",
    "emmbedding_matrix = np.zeros((num_words, EMBD_DIM))\n",
    "\n",
    "for word, i in word2idx.items():\n",
    "    if i < num_words:\n",
    "        emmbedding_vec = word2vec.get(word)\n",
    "        if emmbedding_vec is not None:\n",
    "            emmbedding_matrix[i] = emmbedding_vec"
   ]
  },
  {
   "cell_type": "code",
   "execution_count": 16,
   "metadata": {},
   "outputs": [],
   "source": [
    "embedding_layer  = Embedding(\n",
    "    \n",
    "    input_dim    = num_words,\n",
    "    output_dim   = EMBD_DIM,\n",
    "    input_length = MAX_LEN,\n",
    "    weights      = [emmbedding_matrix],\n",
    "    trainable    = False\n",
    "\n",
    ")"
   ]
  },
  {
   "cell_type": "code",
   "execution_count": 17,
   "metadata": {},
   "outputs": [],
   "source": [
    "ip = Input(shape=(MAX_LEN, ))\n",
    "x  = embedding_layer(ip)\n",
    "x  = SpatialDropout1D(.2)(x)\n",
    "x  = Bidirectional(GRU(units=6, return_sequences=True, dropout=.3, recurrent_dropout=.3, ))(x)\n",
    "#x  = Dropout(0.3)(x)\n",
    "x  = GlobalMaxPool1D()(x)\n",
    "op = Dense(1, activation=\"sigmoid\")(x)"
   ]
  },
  {
   "cell_type": "code",
   "execution_count": 18,
   "metadata": {},
   "outputs": [],
   "source": [
    "model = Model(ip, op)\n",
    "\n",
    "model.compile(\n",
    "  loss='binary_crossentropy',\n",
    "  optimizer=Adam(lr=0.01),\n",
    "  metrics=['accuracy'],\n",
    ")"
   ]
  },
  {
   "cell_type": "code",
   "execution_count": 19,
   "metadata": {},
   "outputs": [
    {
     "name": "stdout",
     "output_type": "stream",
     "text": [
      "Model: \"functional_1\"\n",
      "_________________________________________________________________\n",
      "Layer (type)                 Output Shape              Param #   \n",
      "=================================================================\n",
      "input_1 (InputLayer)         [(None, 30)]              0         \n",
      "_________________________________________________________________\n",
      "embedding (Embedding)        (None, 30, 100)           200000    \n",
      "_________________________________________________________________\n",
      "spatial_dropout1d (SpatialDr (None, 30, 100)           0         \n",
      "_________________________________________________________________\n",
      "bidirectional (Bidirectional (None, 30, 12)            3888      \n",
      "_________________________________________________________________\n",
      "global_max_pooling1d (Global (None, 12)                0         \n",
      "_________________________________________________________________\n",
      "dense (Dense)                (None, 1)                 13        \n",
      "=================================================================\n",
      "Total params: 203,901\n",
      "Trainable params: 3,901\n",
      "Non-trainable params: 200,000\n",
      "_________________________________________________________________\n"
     ]
    }
   ],
   "source": [
    "model.summary()"
   ]
  },
  {
   "cell_type": "code",
   "execution_count": 20,
   "metadata": {},
   "outputs": [
    {
     "name": "stdout",
     "output_type": "stream",
     "text": [
      "Epoch 1/50\n",
      "21/21 [==============================] - 1s 41ms/step - loss: 0.6823 - accuracy: 0.5943 - val_loss: 0.6000 - val_accuracy: 0.7417\n",
      "Epoch 2/50\n",
      "21/21 [==============================] - 1s 27ms/step - loss: 0.5772 - accuracy: 0.7243 - val_loss: 0.5212 - val_accuracy: 0.7850\n",
      "Epoch 3/50\n",
      "21/21 [==============================] - 1s 28ms/step - loss: 0.5209 - accuracy: 0.7506 - val_loss: 0.4636 - val_accuracy: 0.8122\n",
      "Epoch 4/50\n",
      "21/21 [==============================] - 1s 27ms/step - loss: 0.4887 - accuracy: 0.7699 - val_loss: 0.4469 - val_accuracy: 0.8047\n",
      "Epoch 5/50\n",
      "21/21 [==============================] - 1s 28ms/step - loss: 0.4691 - accuracy: 0.7900 - val_loss: 0.4431 - val_accuracy: 0.8004\n",
      "Epoch 6/50\n",
      "21/21 [==============================] - 1s 27ms/step - loss: 0.4598 - accuracy: 0.7919 - val_loss: 0.4519 - val_accuracy: 0.7955\n",
      "Epoch 7/50\n",
      "21/21 [==============================] - 1s 27ms/step - loss: 0.4572 - accuracy: 0.7908 - val_loss: 0.4384 - val_accuracy: 0.7938\n",
      "Epoch 8/50\n",
      "21/21 [==============================] - 1s 30ms/step - loss: 0.4467 - accuracy: 0.8000 - val_loss: 0.4429 - val_accuracy: 0.7977\n",
      "Epoch 9/50\n",
      "21/21 [==============================] - 1s 27ms/step - loss: 0.4505 - accuracy: 0.7994 - val_loss: 0.4596 - val_accuracy: 0.7872\n",
      "Epoch 10/50\n",
      "21/21 [==============================] - 1s 28ms/step - loss: 0.4483 - accuracy: 0.7945 - val_loss: 0.4363 - val_accuracy: 0.7982\n",
      "Epoch 11/50\n",
      "21/21 [==============================] - 1s 26ms/step - loss: 0.4426 - accuracy: 0.8009 - val_loss: 0.4561 - val_accuracy: 0.7942\n",
      "Epoch 12/50\n",
      "21/21 [==============================] - 1s 26ms/step - loss: 0.4412 - accuracy: 0.8007 - val_loss: 0.4333 - val_accuracy: 0.8082\n",
      "Epoch 13/50\n",
      "21/21 [==============================] - 1s 30ms/step - loss: 0.4423 - accuracy: 0.8007 - val_loss: 0.4364 - val_accuracy: 0.8087\n",
      "Epoch 14/50\n",
      "21/21 [==============================] - 1s 29ms/step - loss: 0.4311 - accuracy: 0.8052 - val_loss: 0.4359 - val_accuracy: 0.8043\n",
      "Epoch 15/50\n",
      "21/21 [==============================] - 1s 27ms/step - loss: 0.4303 - accuracy: 0.8118 - val_loss: 0.4491 - val_accuracy: 0.7859\n",
      "Epoch 16/50\n",
      "21/21 [==============================] - 1s 29ms/step - loss: 0.4380 - accuracy: 0.7985 - val_loss: 0.4559 - val_accuracy: 0.7837\n",
      "Epoch 17/50\n",
      "21/21 [==============================] - 1s 27ms/step - loss: 0.4340 - accuracy: 0.8071 - val_loss: 0.4449 - val_accuracy: 0.7938\n",
      "Epoch 18/50\n",
      "21/21 [==============================] - 1s 29ms/step - loss: 0.4337 - accuracy: 0.8093 - val_loss: 0.4403 - val_accuracy: 0.8047\n",
      "Epoch 19/50\n",
      "21/21 [==============================] - 1s 32ms/step - loss: 0.4247 - accuracy: 0.8108 - val_loss: 0.4499 - val_accuracy: 0.7960\n",
      "Epoch 20/50\n",
      "21/21 [==============================] - 1s 27ms/step - loss: 0.4228 - accuracy: 0.8146 - val_loss: 0.4470 - val_accuracy: 0.7964\n",
      "Epoch 21/50\n",
      "21/21 [==============================] - 1s 34ms/step - loss: 0.4270 - accuracy: 0.8073 - val_loss: 0.4406 - val_accuracy: 0.8021\n",
      "Epoch 22/50\n",
      "21/21 [==============================] - 1s 28ms/step - loss: 0.4305 - accuracy: 0.8017 - val_loss: 0.4521 - val_accuracy: 0.7837\n",
      "Epoch 23/50\n",
      "21/21 [==============================] - 1s 29ms/step - loss: 0.4243 - accuracy: 0.8093 - val_loss: 0.4407 - val_accuracy: 0.7990\n",
      "Epoch 24/50\n",
      "21/21 [==============================] - 1s 28ms/step - loss: 0.4266 - accuracy: 0.8086 - val_loss: 0.4426 - val_accuracy: 0.8069\n",
      "Epoch 25/50\n",
      "21/21 [==============================] - 1s 28ms/step - loss: 0.4239 - accuracy: 0.8095 - val_loss: 0.4461 - val_accuracy: 0.8078\n",
      "Epoch 26/50\n",
      "21/21 [==============================] - 1s 28ms/step - loss: 0.4258 - accuracy: 0.8063 - val_loss: 0.4405 - val_accuracy: 0.8043\n",
      "Epoch 27/50\n",
      "21/21 [==============================] - 1s 28ms/step - loss: 0.4286 - accuracy: 0.8078 - val_loss: 0.4479 - val_accuracy: 0.7999\n",
      "Epoch 28/50\n",
      "21/21 [==============================] - 1s 27ms/step - loss: 0.4222 - accuracy: 0.8108 - val_loss: 0.4545 - val_accuracy: 0.7912\n",
      "Epoch 29/50\n",
      "21/21 [==============================] - 1s 29ms/step - loss: 0.4202 - accuracy: 0.8114 - val_loss: 0.4453 - val_accuracy: 0.7947\n",
      "Epoch 30/50\n",
      "21/21 [==============================] - 1s 28ms/step - loss: 0.4233 - accuracy: 0.8125 - val_loss: 0.4370 - val_accuracy: 0.8021\n",
      "Epoch 31/50\n",
      "21/21 [==============================] - 1s 28ms/step - loss: 0.4162 - accuracy: 0.8148 - val_loss: 0.4409 - val_accuracy: 0.7925\n",
      "Epoch 32/50\n",
      "21/21 [==============================] - 1s 29ms/step - loss: 0.4160 - accuracy: 0.8206 - val_loss: 0.4370 - val_accuracy: 0.8060\n",
      "Epoch 33/50\n",
      "21/21 [==============================] - 1s 29ms/step - loss: 0.4156 - accuracy: 0.8170 - val_loss: 0.4452 - val_accuracy: 0.7990\n",
      "Epoch 34/50\n",
      "21/21 [==============================] - 1s 30ms/step - loss: 0.4198 - accuracy: 0.8078 - val_loss: 0.4414 - val_accuracy: 0.7929\n",
      "Epoch 35/50\n",
      "21/21 [==============================] - 1s 29ms/step - loss: 0.4194 - accuracy: 0.8120 - val_loss: 0.4372 - val_accuracy: 0.7951\n",
      "Epoch 36/50\n",
      "21/21 [==============================] - 1s 28ms/step - loss: 0.4191 - accuracy: 0.8067 - val_loss: 0.4367 - val_accuracy: 0.7951\n",
      "Epoch 37/50\n",
      "21/21 [==============================] - 1s 32ms/step - loss: 0.4145 - accuracy: 0.8133 - val_loss: 0.4441 - val_accuracy: 0.7912\n",
      "Epoch 38/50\n",
      "21/21 [==============================] - 1s 26ms/step - loss: 0.4184 - accuracy: 0.8131 - val_loss: 0.4445 - val_accuracy: 0.7977\n",
      "Epoch 39/50\n",
      "21/21 [==============================] - 1s 33ms/step - loss: 0.4220 - accuracy: 0.8142 - val_loss: 0.4436 - val_accuracy: 0.7881\n",
      "Epoch 40/50\n",
      "21/21 [==============================] - 1s 27ms/step - loss: 0.4222 - accuracy: 0.8131 - val_loss: 0.4360 - val_accuracy: 0.7982\n",
      "Epoch 41/50\n",
      "21/21 [==============================] - 1s 28ms/step - loss: 0.4114 - accuracy: 0.8204 - val_loss: 0.4468 - val_accuracy: 0.7907\n",
      "Epoch 42/50\n",
      "21/21 [==============================] - 1s 28ms/step - loss: 0.4177 - accuracy: 0.8150 - val_loss: 0.4490 - val_accuracy: 0.7925\n",
      "Epoch 43/50\n",
      "21/21 [==============================] - 1s 27ms/step - loss: 0.4131 - accuracy: 0.8170 - val_loss: 0.4468 - val_accuracy: 0.7977\n",
      "Epoch 44/50\n",
      "21/21 [==============================] - 1s 27ms/step - loss: 0.4140 - accuracy: 0.8157 - val_loss: 0.4489 - val_accuracy: 0.7933\n",
      "Epoch 45/50\n",
      "21/21 [==============================] - 1s 28ms/step - loss: 0.4187 - accuracy: 0.8152 - val_loss: 0.4481 - val_accuracy: 0.7898\n",
      "Epoch 46/50\n",
      "21/21 [==============================] - 1s 29ms/step - loss: 0.4119 - accuracy: 0.8184 - val_loss: 0.4475 - val_accuracy: 0.7903\n",
      "Epoch 47/50\n",
      "21/21 [==============================] - 1s 28ms/step - loss: 0.4120 - accuracy: 0.8176 - val_loss: 0.4544 - val_accuracy: 0.7960\n",
      "Epoch 48/50\n",
      "21/21 [==============================] - 1s 28ms/step - loss: 0.4137 - accuracy: 0.8176 - val_loss: 0.4565 - val_accuracy: 0.7947\n",
      "Epoch 49/50\n",
      "21/21 [==============================] - 1s 29ms/step - loss: 0.4213 - accuracy: 0.8116 - val_loss: 0.4593 - val_accuracy: 0.7903\n",
      "Epoch 50/50\n",
      "21/21 [==============================] - 1s 28ms/step - loss: 0.4156 - accuracy: 0.8140 - val_loss: 0.4534 - val_accuracy: 0.7859\n"
     ]
    }
   ],
   "source": [
    "log = model.fit(\n",
    "  seqs,\n",
    "  yData,\n",
    "  batch_size=256,\n",
    "  epochs=50,\n",
    "  validation_split=.3\n",
    ")"
   ]
  },
  {
   "cell_type": "code",
   "execution_count": 21,
   "metadata": {},
   "outputs": [
    {
     "data": {
      "image/png": "[encoded data removed]",
      "text/plain": [
       "<Figure size 432x288 with 1 Axes>"
      ]
     },
     "metadata": {
      "needs_background": "light"
     },
     "output_type": "display_data"
    }
   ],
   "source": [
    "plt.plot(log.history['loss'], label='loss')\n",
    "plt.plot(log.history['val_loss'], label='val_loss')\n",
    "plt.legend()\n",
    "plt.show()"
   ]
  },
  {
   "cell_type": "code",
   "execution_count": 22,
   "metadata": {},
   "outputs": [
    {
     "name": "stdout",
     "output_type": "stream",
     "text": [
      "Epoch 1/15\n",
      "30/30 [==============================] - 1s 25ms/step - loss: 0.4296 - accuracy: 0.8112\n",
      "Epoch 2/15\n",
      "30/30 [==============================] - 1s 25ms/step - loss: 0.4314 - accuracy: 0.8039\n",
      "Epoch 3/15\n",
      "30/30 [==============================] - 1s 24ms/step - loss: 0.4191 - accuracy: 0.8127\n",
      "Epoch 4/15\n",
      "30/30 [==============================] - 1s 23ms/step - loss: 0.4293 - accuracy: 0.8043\n",
      "Epoch 5/15\n",
      "30/30 [==============================] - 1s 23ms/step - loss: 0.4229 - accuracy: 0.8090\n",
      "Epoch 6/15\n",
      "30/30 [==============================] - 1s 27ms/step - loss: 0.4269 - accuracy: 0.8098\n",
      "Epoch 7/15\n",
      "30/30 [==============================] - 1s 24ms/step - loss: 0.4246 - accuracy: 0.8089\n",
      "Epoch 8/15\n",
      "30/30 [==============================] - 1s 27ms/step - loss: 0.4183 - accuracy: 0.8164\n",
      "Epoch 9/15\n",
      "30/30 [==============================] - 1s 24ms/step - loss: 0.4161 - accuracy: 0.8112\n",
      "Epoch 10/15\n",
      "30/30 [==============================] - 1s 24ms/step - loss: 0.4160 - accuracy: 0.8099\n",
      "Epoch 11/15\n",
      "30/30 [==============================] - 1s 23ms/step - loss: 0.4236 - accuracy: 0.8089\n",
      "Epoch 12/15\n",
      "30/30 [==============================] - 1s 25ms/step - loss: 0.4152 - accuracy: 0.8098\n",
      "Epoch 13/15\n",
      "30/30 [==============================] - 1s 25ms/step - loss: 0.4155 - accuracy: 0.8158\n",
      "Epoch 14/15\n",
      "30/30 [==============================] - 1s 24ms/step - loss: 0.4130 - accuracy: 0.8114\n",
      "Epoch 15/15\n",
      "30/30 [==============================] - 1s 26ms/step - loss: 0.4152 - accuracy: 0.8165\n"
     ]
    }
   ],
   "source": [
    "# training model on entire train data for predicting test labels\n",
    "log = model.fit(\n",
    "  seqs,\n",
    "  yData,\n",
    "  batch_size=256,\n",
    "  epochs=15,\n",
    "  validation_split=0\n",
    ")"
   ]
  },
  {
   "cell_type": "code",
   "execution_count": 23,
   "metadata": {},
   "outputs": [
    {
     "data": {
      "image/png": "[encoded data removed]",
      "text/plain": [
       "<Figure size 432x288 with 1 Axes>"
      ]
     },
     "metadata": {
      "needs_background": "light"
     },
     "output_type": "display_data"
    }
   ],
   "source": [
    "plt.plot(log.history['loss'], label='loss')\n",
    "plt.legend()\n",
    "plt.show()"
   ]
  },
  {
   "cell_type": "markdown",
   "metadata": {},
   "source": [
    "### Test Data"
   ]
  },
  {
   "cell_type": "code",
   "execution_count": 24,
   "metadata": {},
   "outputs": [
    {
     "data": {
      "text/html": [
       "<div>\n",
       "<style scoped>\n",
       "    .dataframe tbody tr th:only-of-type {\n",
       "        vertical-align: middle;\n",
       "    }\n",
       "\n",
       "    .dataframe tbody tr th {\n",
       "        vertical-align: top;\n",
       "    }\n",
       "\n",
       "    .dataframe thead th {\n",
       "        text-align: right;\n",
       "    }\n",
       "</style>\n",
       "<table border=\"1\" class=\"dataframe\">\n",
       "  <thead>\n",
       "    <tr style=\"text-align: right;\">\n",
       "      <th></th>\n",
       "      <th>id</th>\n",
       "      <th>keyword</th>\n",
       "      <th>location</th>\n",
       "      <th>text</th>\n",
       "    </tr>\n",
       "  </thead>\n",
       "  <tbody>\n",
       "    <tr>\n",
       "      <th>0</th>\n",
       "      <td>0</td>\n",
       "      <td>NaN</td>\n",
       "      <td>NaN</td>\n",
       "      <td>Just happened a terrible car crash</td>\n",
       "    </tr>\n",
       "    <tr>\n",
       "      <th>1</th>\n",
       "      <td>2</td>\n",
       "      <td>NaN</td>\n",
       "      <td>NaN</td>\n",
       "      <td>Heard about #earthquake is different cities, s...</td>\n",
       "    </tr>\n",
       "    <tr>\n",
       "      <th>2</th>\n",
       "      <td>3</td>\n",
       "      <td>NaN</td>\n",
       "      <td>NaN</td>\n",
       "      <td>there is a forest fire at spot pond, geese are...</td>\n",
       "    </tr>\n",
       "    <tr>\n",
       "      <th>3</th>\n",
       "      <td>9</td>\n",
       "      <td>NaN</td>\n",
       "      <td>NaN</td>\n",
       "      <td>Apocalypse lighting. #Spokane #wildfires</td>\n",
       "    </tr>\n",
       "    <tr>\n",
       "      <th>4</th>\n",
       "      <td>11</td>\n",
       "      <td>NaN</td>\n",
       "      <td>NaN</td>\n",
       "      <td>Typhoon Soudelor kills 28 in China and Taiwan</td>\n",
       "    </tr>\n",
       "  </tbody>\n",
       "</table>\n",
       "</div>"
      ],
      "text/plain": [
       "   id keyword location                                               text\n",
       "0   0     NaN      NaN                 Just happened a terrible car crash\n",
       "1   2     NaN      NaN  Heard about #earthquake is different cities, s...\n",
       "2   3     NaN      NaN  there is a forest fire at spot pond, geese are...\n",
       "3   9     NaN      NaN           Apocalypse lighting. #Spokane #wildfires\n",
       "4  11     NaN      NaN      Typhoon Soudelor kills 28 in China and Taiwan"
      ]
     },
     "execution_count": 24,
     "metadata": {},
     "output_type": "execute_result"
    }
   ],
   "source": [
    "test = pd.read_csv('./dataset/test.csv')\n",
    "test.head()"
   ]
  },
  {
   "cell_type": "code",
   "execution_count": 25,
   "metadata": {},
   "outputs": [],
   "source": [
    "# pre-processing tweets\n",
    "REMOVE_STOPWORDS = False\n",
    "xTest = test.text\n",
    "xTest = xTest.map(lambda tweet:preProc(tweet, REMOVE_STOPWORDS))"
   ]
  },
  {
   "cell_type": "code",
   "execution_count": 26,
   "metadata": {},
   "outputs": [],
   "source": [
    "test_seq = tkn.texts_to_sequences(xTest)\n",
    "test_seq = pad_sequences(test_seq, maxlen=MAX_LEN)"
   ]
  },
  {
   "cell_type": "code",
   "execution_count": 27,
   "metadata": {},
   "outputs": [],
   "source": [
    "yPred = np.array(np.round(model.predict(test_seq)).flatten(), dtype=np.int)"
   ]
  },
  {
   "cell_type": "code",
   "execution_count": 29,
   "metadata": {},
   "outputs": [],
   "source": [
    "output = pd.DataFrame({\"id\":test.id, \"target\":yPred})\n",
    "output.to_csv('./dataset/gru_results.csv', index=None)"
   ]
  }
 ],
 "metadata": {
  "kernelspec": {
   "display_name": "Python 3",
   "language": "python",
   "name": "python3"
  },
  "language_info": {
   "codemirror_mode": {
    "name": "ipython",
    "version": 3
   },
   "file_extension": ".py",
   "mimetype": "text/x-python",
   "name": "python",
   "nbconvert_exporter": "python",
   "pygments_lexer": "ipython3",
   "version": "3.8.3"
  }
 },
 "nbformat": 4,
 "nbformat_minor": 4
}
